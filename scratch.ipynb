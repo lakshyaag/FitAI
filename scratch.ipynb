{
 "cells": [
  {
   "cell_type": "code",
   "execution_count": 20,
   "metadata": {},
   "outputs": [],
   "source": [
    "import os\n",
    "import json\n",
    "import openai\n",
    "from rich import print\n",
    "from dotenv import load_dotenv, find_dotenv\n",
    "\n",
    "from langchain.chat_models import ChatOpenAI\n",
    "\n",
    "from langchain.prompts import (\n",
    "    ChatPromptTemplate,\n",
    "    SystemMessagePromptTemplate,\n",
    "    HumanMessagePromptTemplate,\n",
    ")\n",
    "from langchain.schema import (\n",
    "    AIMessage,\n",
    "    HumanMessage,\n",
    "    SystemMessage\n",
    ")\n",
    "\n",
    "load_dotenv(find_dotenv())\n",
    "\n",
    "openai_api_key = os.environ.get(\"OPENAI_API_KEY\")"
   ]
  },
  {
   "cell_type": "code",
   "execution_count": 2,
   "metadata": {},
   "outputs": [],
   "source": [
    "system_message = SystemMessagePromptTemplate.from_template(\n",
    "    \"\"\"Your task is to act as a personal fitness trainer. You will be provided with information about your CLIENT's current fitness level, their goals, and other preferences they have. You have to prepare a detailed workout plan for the CLIENT, including everything essential for fitness.\"\"\"\n",
    ")\n"
   ]
  },
  {
   "cell_type": "code",
   "execution_count": 3,
   "metadata": {},
   "outputs": [
    {
     "data": {
      "text/plain": [
       "[{'id': 1,\n",
       "  'text': 'What is your primary goal for strength training?',\n",
       "  'options': ['Increase muscle mass',\n",
       "   'Improve overall strength',\n",
       "   'Improve athletic performance',\n",
       "   'Lose body fat and tone muscles',\n",
       "   'Rehabilitation or injury prevention']},\n",
       " {'id': 2,\n",
       "  'text': 'How would you describe your current fitness level?',\n",
       "  'options': ['Beginner (little or no experience)',\n",
       "   'Intermediate (some experience)',\n",
       "   'Advanced (regular and experienced lifter)']},\n",
       " {'id': 3, 'text': 'What is your current height?', 'options': ['5\\'10\"']},\n",
       " {'id': 3, 'text': 'What is your current weight?', 'options': ['78 kgs']},\n",
       " {'id': 4,\n",
       "  'text': 'Have you ever followed a structured strength training program before?',\n",
       "  'options': ['Yes', 'No']},\n",
       " {'id': 5,\n",
       "  'text': 'Do you have any previous injuries or medical conditions that may affect your training?',\n",
       "  'options': ['No', 'Yes (please specify)']},\n",
       " {'id': 6,\n",
       "  'text': 'How many days per week can you dedicate to strength training?',\n",
       "  'options': ['2 days', '3 days', '4 days', '5 days', '6 days']},\n",
       " {'id': 7,\n",
       "  'text': 'How many weeks do you plan to workout?',\n",
       "  'options': ['4 weeks', '5 weeks', '6 weeks', '7 weeks', '8 weeks']},\n",
       " {'id': 7,\n",
       "  'text': 'Do you have access to a gym or will you be working out at home?',\n",
       "  'options': ['Gym access', 'Home workouts']},\n",
       " {'id': 9,\n",
       "  'text': 'Which of these muscle groups do you consider your strongest?',\n",
       "  'options': ['Upper body (chest, shoulders, arms)',\n",
       "   'Lower body (legs, glutes)',\n",
       "   'Core (abs, lower back)',\n",
       "   'Not sure']},\n",
       " {'id': 10,\n",
       "  'text': 'Which of these muscle groups do you consider your weakest or want to improve the most?',\n",
       "  'options': ['Core (abs, lower back)',\n",
       "   'Upper body (chest, shoulders, arms)',\n",
       "   'Lower body (legs, glutes)',\n",
       "   'Not sure']}]"
      ]
     },
     "execution_count": 3,
     "metadata": {},
     "output_type": "execute_result"
    }
   ],
   "source": [
    "with open('./questions.json') as f:\n",
    "    questions_list = json.load(f)['questions']\n",
    "\n",
    "questions_list"
   ]
  },
  {
   "cell_type": "code",
   "execution_count": 4,
   "metadata": {},
   "outputs": [],
   "source": [
    "question_message = HumanMessagePromptTemplate.from_template(\n",
    "    f'The list of questions that have been asked to the CLIENT (separated by a ;) are: \\n{\";\".join(i[\"text\"] for i in questions_list)}'\n",
    ")\n",
    "\n"
   ]
  },
  {
   "cell_type": "code",
   "execution_count": 5,
   "metadata": {},
   "outputs": [
    {
     "data": {
      "text/html": [
       "<pre style=\"white-space:pre;overflow-x:auto;line-height:normal;font-family:Menlo,'DejaVu Sans Mono',consolas,'Courier New',monospace\"><span style=\"color: #808000; text-decoration-color: #808000\">prompt</span>=<span style=\"color: #800080; text-decoration-color: #800080; font-weight: bold\">PromptTemplate</span><span style=\"font-weight: bold\">(</span><span style=\"color: #808000; text-decoration-color: #808000\">input_variables</span>=<span style=\"font-weight: bold\">[]</span>, <span style=\"color: #808000; text-decoration-color: #808000\">output_parser</span>=<span style=\"color: #800080; text-decoration-color: #800080; font-style: italic\">None</span>, <span style=\"color: #808000; text-decoration-color: #808000\">partial_variables</span>=<span style=\"font-weight: bold\">{}</span>, <span style=\"color: #808000; text-decoration-color: #808000\">template</span>=<span style=\"color: #008000; text-decoration-color: #008000\">'The list of questions</span>\n",
       "<span style=\"color: #008000; text-decoration-color: #008000\">that have been asked to the CLIENT (separated by a ;) are: \\nWhat is your primary goal for strength training?;How </span>\n",
       "<span style=\"color: #008000; text-decoration-color: #008000\">would you describe your current fitness level?;What is your current height?;What is your current weight?;Have you </span>\n",
       "<span style=\"color: #008000; text-decoration-color: #008000\">ever followed a structured strength training program before?;Do you have any previous injuries or medical </span>\n",
       "<span style=\"color: #008000; text-decoration-color: #008000\">conditions that may affect your training?;How many days per week can you dedicate to strength training?;How many </span>\n",
       "<span style=\"color: #008000; text-decoration-color: #008000\">weeks do you plan to workout?;Do you have access to a gym or will you be working out at home?;Which of these muscle</span>\n",
       "<span style=\"color: #008000; text-decoration-color: #008000\">groups do you consider your strongest?;Which of these muscle groups do you consider your weakest or want to improve</span>\n",
       "<span style=\"color: #008000; text-decoration-color: #008000\">the most?'</span>, <span style=\"color: #808000; text-decoration-color: #808000\">template_format</span>=<span style=\"color: #008000; text-decoration-color: #008000\">'f-string'</span>, <span style=\"color: #808000; text-decoration-color: #808000\">validate_template</span>=<span style=\"color: #00ff00; text-decoration-color: #00ff00; font-style: italic\">True</span><span style=\"font-weight: bold\">)</span> <span style=\"color: #808000; text-decoration-color: #808000\">additional_kwargs</span>=<span style=\"font-weight: bold\">{}</span>\n",
       "</pre>\n"
      ],
      "text/plain": [
       "\u001b[33mprompt\u001b[0m=\u001b[1;35mPromptTemplate\u001b[0m\u001b[1m(\u001b[0m\u001b[33minput_variables\u001b[0m=\u001b[1m[\u001b[0m\u001b[1m]\u001b[0m, \u001b[33moutput_parser\u001b[0m=\u001b[3;35mNone\u001b[0m, \u001b[33mpartial_variables\u001b[0m=\u001b[1m{\u001b[0m\u001b[1m}\u001b[0m, \u001b[33mtemplate\u001b[0m=\u001b[32m'The list of questions\u001b[0m\n",
       "\u001b[32mthat have been asked to the CLIENT \u001b[0m\u001b[32m(\u001b[0m\u001b[32mseparated by a ;\u001b[0m\u001b[32m)\u001b[0m\u001b[32m are: \\nWhat is your primary goal for strength training?;How \u001b[0m\n",
       "\u001b[32mwould you describe your current fitness level?;What is your current height?;What is your current weight?;Have you \u001b[0m\n",
       "\u001b[32mever followed a structured strength training program before?;Do you have any previous injuries or medical \u001b[0m\n",
       "\u001b[32mconditions that may affect your training?;How many days per week can you dedicate to strength training?;How many \u001b[0m\n",
       "\u001b[32mweeks do you plan to workout?;Do you have access to a gym or will you be working out at home?;Which of these muscle\u001b[0m\n",
       "\u001b[32mgroups do you consider your strongest?;Which of these muscle groups do you consider your weakest or want to improve\u001b[0m\n",
       "\u001b[32mthe most?'\u001b[0m, \u001b[33mtemplate_format\u001b[0m=\u001b[32m'f-string'\u001b[0m, \u001b[33mvalidate_template\u001b[0m=\u001b[3;92mTrue\u001b[0m\u001b[1m)\u001b[0m \u001b[33madditional_kwargs\u001b[0m=\u001b[1m{\u001b[0m\u001b[1m}\u001b[0m\n"
      ]
     },
     "metadata": {},
     "output_type": "display_data"
    }
   ],
   "source": [
    "print(question_message)"
   ]
  },
  {
   "cell_type": "code",
   "execution_count": 6,
   "metadata": {},
   "outputs": [],
   "source": [
    "answer_message = HumanMessagePromptTemplate.from_template(\n",
    "    'The answers provided by the CLIENT (separated by a ;) are: \\nIncrease muscle mass;Beginner (little or no experience);5\\'10\";78 kgs;Yes;No;4 days;6 weeks;Gym access;Upper body;Core'\n",
    ")"
   ]
  },
  {
   "cell_type": "code",
   "execution_count": 7,
   "metadata": {},
   "outputs": [
    {
     "data": {
      "text/html": [
       "<pre style=\"white-space:pre;overflow-x:auto;line-height:normal;font-family:Menlo,'DejaVu Sans Mono',consolas,'Courier New',monospace\">The answers provided by the CLIENT <span style=\"font-weight: bold\">(</span>separated by a ;<span style=\"font-weight: bold\">)</span> are: \n",
       "Increase muscle mass;Beginner <span style=\"font-weight: bold\">(</span>little or no experience<span style=\"font-weight: bold\">)</span>;<span style=\"color: #008080; text-decoration-color: #008080; font-weight: bold\">5</span>'<span style=\"color: #008080; text-decoration-color: #008080; font-weight: bold\">10</span>\";<span style=\"color: #008080; text-decoration-color: #008080; font-weight: bold\">78</span> kgs;Yes;No;<span style=\"color: #008080; text-decoration-color: #008080; font-weight: bold\">4</span> days;<span style=\"color: #008080; text-decoration-color: #008080; font-weight: bold\">6</span> weeks;Gym access;Upper \n",
       "body;Core\n",
       "</pre>\n"
      ],
      "text/plain": [
       "The answers provided by the CLIENT \u001b[1m(\u001b[0mseparated by a ;\u001b[1m)\u001b[0m are: \n",
       "Increase muscle mass;Beginner \u001b[1m(\u001b[0mlittle or no experience\u001b[1m)\u001b[0m;\u001b[1;36m5\u001b[0m'\u001b[1;36m10\u001b[0m\";\u001b[1;36m78\u001b[0m kgs;Yes;No;\u001b[1;36m4\u001b[0m days;\u001b[1;36m6\u001b[0m weeks;Gym access;Upper \n",
       "body;Core\n"
      ]
     },
     "metadata": {},
     "output_type": "display_data"
    }
   ],
   "source": [
    "print(answer_message.prompt.template)"
   ]
  },
  {
   "cell_type": "code",
   "execution_count": 8,
   "metadata": {},
   "outputs": [],
   "source": [
    "from typing import List\n",
    "from pydantic import BaseModel, Field, validator\n",
    "from langchain.output_parsers import PydanticOutputParser\n",
    "\n",
    "class Duration(BaseModel):\n",
    "    value: int = Field(description=\"numerical value of a duration\")\n",
    "    unit: str = Field(description=\"the unit of time of a duration\")\n",
    "\n",
    "class Exercise(BaseModel):\n",
    "    name: str = Field(description=\"name of the exercise\")\n",
    "    exercise_type: str = Field(default=None, description=\"type of exercise (e.g., warmup, cardio, stretching, strength)\")\n",
    "    sets: int = Field(default=None, description=\"number of sets to perform\")\n",
    "    reps: int = Field(default=None, description=\"number of repetitions per set\")\n",
    "    duration: Duration = Field(default=None, description=\"duration of the exercise, if applicable\")\n",
    "\n",
    "class Day(BaseModel):\n",
    "    day_number: int = Field(description=\"the day number within the workout plan\")\n",
    "    focus: str = Field(description=\"primary focus area of the day\")\n",
    "    exercises: List[Exercise] = Field(default=None, description=\"list of exercises to be performed\")\n",
    "\n",
    "class Week(BaseModel):\n",
    "    week_range: str = Field(description=\"week numbers the workout plan has to be followed (e.g., Week 1-4, Week 5-7)\")\n",
    "    days: List[Day] = Field(\"list of days in the workout plan for specific week\")\n",
    "    \n",
    "class Note(BaseModel):\n",
    "    content: str = Field(description=\"the content of the note\")\n",
    "\n",
    "class WorkoutPlan(BaseModel):\n",
    "    weeks: List[Week] = Field(\"list of weeks in the workout plan\")\n",
    "    notes: List[Note] = Field(\"list of notes for the workout plan\")"
   ]
  },
  {
   "cell_type": "code",
   "execution_count": 9,
   "metadata": {},
   "outputs": [],
   "source": [
    "parser = PydanticOutputParser(pydantic_object=WorkoutPlan)"
   ]
  },
  {
   "cell_type": "code",
   "execution_count": 16,
   "metadata": {},
   "outputs": [],
   "source": [
    "format_message = HumanMessagePromptTemplate.from_template(\n",
    "    template=\"\"\"With the given details, proceed to create a detailed weekly plan that can be followed for 2 months for the CLIENT, making sure to incorporate their inputs properly.\n",
    "    Ensure that you include cardio and rest time inside the plan as part of the `exercise` object. Try to keep the notes section as generic as possible as most CLIENTS will not read it.\n",
    "    {format_instructions}\"\"\",\n",
    ")\n"
   ]
  },
  {
   "cell_type": "code",
   "execution_count": 11,
   "metadata": {},
   "outputs": [
    {
     "data": {
      "text/html": [
       "<pre style=\"white-space:pre;overflow-x:auto;line-height:normal;font-family:Menlo,'DejaVu Sans Mono',consolas,'Courier New',monospace\"><span style=\"font-weight: bold\">[</span>\n",
       "    <span style=\"color: #800080; text-decoration-color: #800080; font-weight: bold\">SystemMessage</span><span style=\"font-weight: bold\">(</span><span style=\"color: #808000; text-decoration-color: #808000\">content</span>=<span style=\"color: #008000; text-decoration-color: #008000\">\"Your task is to act as a personal fitness trainer. You will be provided with information</span>\n",
       "<span style=\"color: #008000; text-decoration-color: #008000\">about your CLIENT's current fitness level, their goals, and other preferences they have. You have to prepare a </span>\n",
       "<span style=\"color: #008000; text-decoration-color: #008000\">detailed workout plan for the CLIENT, including everything essential for fitness.\"</span>, <span style=\"color: #808000; text-decoration-color: #808000\">additional_kwargs</span>=<span style=\"font-weight: bold\">{})</span>,\n",
       "    <span style=\"color: #800080; text-decoration-color: #800080; font-weight: bold\">HumanMessage</span><span style=\"font-weight: bold\">(</span><span style=\"color: #808000; text-decoration-color: #808000\">content</span>=<span style=\"color: #008000; text-decoration-color: #008000\">'The list of questions that have been asked to the CLIENT (separated by a ;) are: \\nWhat </span>\n",
       "<span style=\"color: #008000; text-decoration-color: #008000\">is your primary goal for strength training?;How would you describe your current fitness level?;What is your current</span>\n",
       "<span style=\"color: #008000; text-decoration-color: #008000\">height?;What is your current weight?;Have you ever followed a structured strength training program before?;Do you </span>\n",
       "<span style=\"color: #008000; text-decoration-color: #008000\">have any previous injuries or medical conditions that may affect your training?;How many days per week can you </span>\n",
       "<span style=\"color: #008000; text-decoration-color: #008000\">dedicate to strength training?;How many weeks do you plan to workout?;Do you have access to a gym or will you be </span>\n",
       "<span style=\"color: #008000; text-decoration-color: #008000\">working out at home?;Which of these muscle groups do you consider your strongest?;Which of these muscle groups do </span>\n",
       "<span style=\"color: #008000; text-decoration-color: #008000\">you consider your weakest or want to improve the most?'</span>, <span style=\"color: #808000; text-decoration-color: #808000\">additional_kwargs</span>=<span style=\"font-weight: bold\">{}</span>, <span style=\"color: #808000; text-decoration-color: #808000\">example</span>=<span style=\"color: #ff0000; text-decoration-color: #ff0000; font-style: italic\">False</span><span style=\"font-weight: bold\">)</span>,\n",
       "    <span style=\"color: #800080; text-decoration-color: #800080; font-weight: bold\">HumanMessage</span><span style=\"font-weight: bold\">(</span><span style=\"color: #808000; text-decoration-color: #808000\">content</span>=<span style=\"color: #008000; text-decoration-color: #008000\">'The answers provided by the CLIENT (separated by a ;) are: \\nIncrease muscle </span>\n",
       "<span style=\"color: #008000; text-decoration-color: #008000\">mass;Beginner (little or no experience);5\\'10\";78 kgs;Yes;No;4 days;6 weeks;Gym access;Upper body;Core'</span>, \n",
       "<span style=\"color: #808000; text-decoration-color: #808000\">additional_kwargs</span>=<span style=\"font-weight: bold\">{}</span>, <span style=\"color: #808000; text-decoration-color: #808000\">example</span>=<span style=\"color: #ff0000; text-decoration-color: #ff0000; font-style: italic\">False</span><span style=\"font-weight: bold\">)</span>,\n",
       "    <span style=\"color: #800080; text-decoration-color: #800080; font-weight: bold\">HumanMessage</span><span style=\"font-weight: bold\">(</span><span style=\"color: #808000; text-decoration-color: #808000\">content</span>=<span style=\"color: #008000; text-decoration-color: #008000\">'With the given details, proceed to create a detailed weekly plan that can be followed for</span>\n",
       "<span style=\"color: #008000; text-decoration-color: #008000\">2 months for the CLIENT, making sure to incorporate their inputs properly.\\n    Ensure that you include cardio and </span>\n",
       "<span style=\"color: #008000; text-decoration-color: #008000\">rest time inside the plan as part of the `exercise` object. Try to keep the notes section as generic as possible as</span>\n",
       "<span style=\"color: #008000; text-decoration-color: #008000\">most CLIENTS will not read it.\\n    The output should be formatted as a JSON instance that conforms to the JSON </span>\n",
       "<span style=\"color: #008000; text-decoration-color: #008000\">schema below.\\n\\nAs an example, for the schema {\"properties\": {\"foo\": {\"title\": \"Foo\", \"description\": \"a list of </span>\n",
       "<span style=\"color: #008000; text-decoration-color: #008000\">strings\", \"type\": \"array\", \"items\": {\"type\": \"string\"}}}, \"required\": [\"foo\"]}}\\nthe object {\"foo\": [\"bar\", \"baz\"]}</span>\n",
       "<span style=\"color: #008000; text-decoration-color: #008000\">is a well-formatted instance of the schema. The object {\"properties\": {\"foo\": [\"bar\", \"baz\"]}} is not </span>\n",
       "<span style=\"color: #008000; text-decoration-color: #008000\">well-formatted.\\n\\nHere is the output schema:\\n```\\n{\"properties\": {\"weeks\": {\"title\": \"Weeks\", \"default\": \"list of</span>\n",
       "<span style=\"color: #008000; text-decoration-color: #008000\">weeks in the workout plan\", \"type\": \"array\", \"items\": {\"$ref\": \"#/definitions/Week\"}}, \"notes\": {\"title\": \"Notes\", </span>\n",
       "<span style=\"color: #008000; text-decoration-color: #008000\">\"default\": \"list of notes for the workout plan\", \"type\": \"array\", \"items\": {\"$ref\": \"#/definitions/Note\"}}}, </span>\n",
       "<span style=\"color: #008000; text-decoration-color: #008000\">\"definitions\": {\"Duration\": {\"title\": \"Duration\", \"type\": \"object\", \"properties\": {\"value\": {\"title\": \"Value\", </span>\n",
       "<span style=\"color: #008000; text-decoration-color: #008000\">\"description\": \"numerical value of a duration\", \"type\": \"integer\"}, \"unit\": {\"title\": \"Unit\", \"description\": \"the </span>\n",
       "<span style=\"color: #008000; text-decoration-color: #008000\">unit of time of a duration\", \"type\": \"string\"}}, \"required\": [\"value\", \"unit\"]}, \"Exercise\": {\"title\": \"Exercise\", </span>\n",
       "<span style=\"color: #008000; text-decoration-color: #008000\">\"type\": \"object\", \"properties\": {\"name\": {\"title\": \"Name\", \"description\": \"name of the exercise\", \"type\": </span>\n",
       "<span style=\"color: #008000; text-decoration-color: #008000\">\"string\"}, \"exercise_type\": {\"title\": \"Exercise Type\", \"description\": \"type of exercise (e.g., warmup, cardio, </span>\n",
       "<span style=\"color: #008000; text-decoration-color: #008000\">stretching, strength)\", \"type\": \"string\"}, \"sets\": {\"title\": \"Sets\", \"description\": \"number of sets to perform\", </span>\n",
       "<span style=\"color: #008000; text-decoration-color: #008000\">\"type\": \"integer\"}, \"reps\": {\"title\": \"Reps\", \"description\": \"number of repetitions per set\", \"type\": \"integer\"}, </span>\n",
       "<span style=\"color: #008000; text-decoration-color: #008000\">\"duration\": {\"title\": \"Duration\", \"description\": \"duration of the exercise, if applicable\", \"allOf\": [{\"$ref\": </span>\n",
       "<span style=\"color: #008000; text-decoration-color: #008000\">\"#/definitions/Duration\"}]}}, \"required\": [\"name\"]}, \"Day\": {\"title\": \"Day\", \"type\": \"object\", \"properties\": </span>\n",
       "<span style=\"color: #008000; text-decoration-color: #008000\">{\"day_number\": {\"title\": \"Day Number\", \"description\": \"the day number within the workout plan\", \"type\": \"integer\"},</span>\n",
       "<span style=\"color: #008000; text-decoration-color: #008000\">\"focus\": {\"title\": \"Focus\", \"description\": \"primary focus area of the day\", \"type\": \"string\"}, \"exercises\": </span>\n",
       "<span style=\"color: #008000; text-decoration-color: #008000\">{\"title\": \"Exercises\", \"description\": \"list of exercises to be performed\", \"type\": \"array\", \"items\": {\"$ref\": </span>\n",
       "<span style=\"color: #008000; text-decoration-color: #008000\">\"#/definitions/Exercise\"}}}, \"required\": [\"day_number\", \"focus\"]}, \"Week\": {\"title\": \"Week\", \"type\": \"object\", </span>\n",
       "<span style=\"color: #008000; text-decoration-color: #008000\">\"properties\": {\"week_range\": {\"title\": \"Week Range\", \"description\": \"week numbers the workout plan has to be </span>\n",
       "<span style=\"color: #008000; text-decoration-color: #008000\">followed (e.g., Week 1-4, Week 5-7)\", \"type\": \"string\"}, \"days\": {\"title\": \"Days\", \"default\": \"list of days in the </span>\n",
       "<span style=\"color: #008000; text-decoration-color: #008000\">workout plan for specific week\", \"type\": \"array\", \"items\": {\"$ref\": \"#/definitions/Day\"}}}, \"required\": </span>\n",
       "<span style=\"color: #008000; text-decoration-color: #008000\">[\"week_range\"]}, \"Note\": {\"title\": \"Note\", \"type\": \"object\", \"properties\": {\"content\": {\"title\": \"Content\", </span>\n",
       "<span style=\"color: #008000; text-decoration-color: #008000\">\"description\": \"the content of the note\", \"type\": \"string\"}}, \"required\": [\"content\"]}}}\\n```'</span>, \n",
       "<span style=\"color: #808000; text-decoration-color: #808000\">additional_kwargs</span>=<span style=\"font-weight: bold\">{}</span>, <span style=\"color: #808000; text-decoration-color: #808000\">example</span>=<span style=\"color: #ff0000; text-decoration-color: #ff0000; font-style: italic\">False</span><span style=\"font-weight: bold\">)</span>\n",
       "<span style=\"font-weight: bold\">]</span>\n",
       "</pre>\n"
      ],
      "text/plain": [
       "\u001b[1m[\u001b[0m\n",
       "    \u001b[1;35mSystemMessage\u001b[0m\u001b[1m(\u001b[0m\u001b[33mcontent\u001b[0m=\u001b[32m\"Your\u001b[0m\u001b[32m task is to act as a personal fitness trainer. You will be provided with information\u001b[0m\n",
       "\u001b[32mabout your CLIENT's current fitness level, their goals, and other preferences they have. You have to prepare a \u001b[0m\n",
       "\u001b[32mdetailed workout plan for the CLIENT, including everything essential for fitness.\"\u001b[0m, \u001b[33madditional_kwargs\u001b[0m=\u001b[1m{\u001b[0m\u001b[1m}\u001b[0m\u001b[1m)\u001b[0m,\n",
       "    \u001b[1;35mHumanMessage\u001b[0m\u001b[1m(\u001b[0m\u001b[33mcontent\u001b[0m=\u001b[32m'The list of questions that have been asked to the CLIENT \u001b[0m\u001b[32m(\u001b[0m\u001b[32mseparated by a ;\u001b[0m\u001b[32m)\u001b[0m\u001b[32m are: \\nWhat \u001b[0m\n",
       "\u001b[32mis your primary goal for strength training?;How would you describe your current fitness level?;What is your current\u001b[0m\n",
       "\u001b[32mheight?;What is your current weight?;Have you ever followed a structured strength training program before?;Do you \u001b[0m\n",
       "\u001b[32mhave any previous injuries or medical conditions that may affect your training?;How many days per week can you \u001b[0m\n",
       "\u001b[32mdedicate to strength training?;How many weeks do you plan to workout?;Do you have access to a gym or will you be \u001b[0m\n",
       "\u001b[32mworking out at home?;Which of these muscle groups do you consider your strongest?;Which of these muscle groups do \u001b[0m\n",
       "\u001b[32myou consider your weakest or want to improve the most?'\u001b[0m, \u001b[33madditional_kwargs\u001b[0m=\u001b[1m{\u001b[0m\u001b[1m}\u001b[0m, \u001b[33mexample\u001b[0m=\u001b[3;91mFalse\u001b[0m\u001b[1m)\u001b[0m,\n",
       "    \u001b[1;35mHumanMessage\u001b[0m\u001b[1m(\u001b[0m\u001b[33mcontent\u001b[0m=\u001b[32m'The answers provided by the CLIENT \u001b[0m\u001b[32m(\u001b[0m\u001b[32mseparated by a ;\u001b[0m\u001b[32m)\u001b[0m\u001b[32m are: \\nIncrease muscle \u001b[0m\n",
       "\u001b[32mmass;Beginner \u001b[0m\u001b[32m(\u001b[0m\u001b[32mlittle or no experience\u001b[0m\u001b[32m)\u001b[0m\u001b[32m;5\\'10\";78 kgs;Yes;No;4 days;6 weeks;Gym access;Upper body;Core'\u001b[0m, \n",
       "\u001b[33madditional_kwargs\u001b[0m=\u001b[1m{\u001b[0m\u001b[1m}\u001b[0m, \u001b[33mexample\u001b[0m=\u001b[3;91mFalse\u001b[0m\u001b[1m)\u001b[0m,\n",
       "    \u001b[1;35mHumanMessage\u001b[0m\u001b[1m(\u001b[0m\u001b[33mcontent\u001b[0m=\u001b[32m'With the given details, proceed to create a detailed weekly plan that can be followed for\u001b[0m\n",
       "\u001b[32m2 months for the CLIENT, making sure to incorporate their inputs properly.\\n    Ensure that you include cardio and \u001b[0m\n",
       "\u001b[32mrest time inside the plan as part of the `exercise` object. Try to keep the notes section as generic as possible as\u001b[0m\n",
       "\u001b[32mmost CLIENTS will not read it.\\n    The output should be formatted as a JSON instance that conforms to the JSON \u001b[0m\n",
       "\u001b[32mschema below.\\n\\nAs an example, for the schema \u001b[0m\u001b[32m{\u001b[0m\u001b[32m\"properties\": \u001b[0m\u001b[32m{\u001b[0m\u001b[32m\"foo\": \u001b[0m\u001b[32m{\u001b[0m\u001b[32m\"title\": \"Foo\", \"description\": \"a list of \u001b[0m\n",
       "\u001b[32mstrings\", \"type\": \"array\", \"items\": \u001b[0m\u001b[32m{\u001b[0m\u001b[32m\"type\": \"string\"\u001b[0m\u001b[32m}\u001b[0m\u001b[32m}\u001b[0m\u001b[32m}\u001b[0m\u001b[32m, \"required\": \u001b[0m\u001b[32m[\u001b[0m\u001b[32m\"foo\"\u001b[0m\u001b[32m]\u001b[0m\u001b[32m}\u001b[0m\u001b[32m}\u001b[0m\u001b[32m\\nthe object \u001b[0m\u001b[32m{\u001b[0m\u001b[32m\"foo\": \u001b[0m\u001b[32m[\u001b[0m\u001b[32m\"bar\", \"baz\"\u001b[0m\u001b[32m]\u001b[0m\u001b[32m}\u001b[0m\n",
       "\u001b[32mis a well-formatted instance of the schema. The object \u001b[0m\u001b[32m{\u001b[0m\u001b[32m\"properties\": \u001b[0m\u001b[32m{\u001b[0m\u001b[32m\"foo\": \u001b[0m\u001b[32m[\u001b[0m\u001b[32m\"bar\", \"baz\"\u001b[0m\u001b[32m]\u001b[0m\u001b[32m}\u001b[0m\u001b[32m}\u001b[0m\u001b[32m is not \u001b[0m\n",
       "\u001b[32mwell-formatted.\\n\\nHere is the output schema:\\n```\\n\u001b[0m\u001b[32m{\u001b[0m\u001b[32m\"properties\": \u001b[0m\u001b[32m{\u001b[0m\u001b[32m\"weeks\": \u001b[0m\u001b[32m{\u001b[0m\u001b[32m\"title\": \"Weeks\", \"default\": \"list of\u001b[0m\n",
       "\u001b[32mweeks in the workout plan\", \"type\": \"array\", \"items\": \u001b[0m\u001b[32m{\u001b[0m\u001b[32m\"$ref\": \"#/definitions/Week\"\u001b[0m\u001b[32m}\u001b[0m\u001b[32m}\u001b[0m\u001b[32m, \"notes\": \u001b[0m\u001b[32m{\u001b[0m\u001b[32m\"title\": \"Notes\", \u001b[0m\n",
       "\u001b[32m\"default\": \"list of notes for the workout plan\", \"type\": \"array\", \"items\": \u001b[0m\u001b[32m{\u001b[0m\u001b[32m\"$ref\": \"#/definitions/Note\"\u001b[0m\u001b[32m}\u001b[0m\u001b[32m}\u001b[0m\u001b[32m}\u001b[0m\u001b[32m, \u001b[0m\n",
       "\u001b[32m\"definitions\": \u001b[0m\u001b[32m{\u001b[0m\u001b[32m\"Duration\": \u001b[0m\u001b[32m{\u001b[0m\u001b[32m\"title\": \"Duration\", \"type\": \"object\", \"properties\": \u001b[0m\u001b[32m{\u001b[0m\u001b[32m\"value\": \u001b[0m\u001b[32m{\u001b[0m\u001b[32m\"title\": \"Value\", \u001b[0m\n",
       "\u001b[32m\"description\": \"numerical value of a duration\", \"type\": \"integer\"\u001b[0m\u001b[32m}\u001b[0m\u001b[32m, \"unit\": \u001b[0m\u001b[32m{\u001b[0m\u001b[32m\"title\": \"Unit\", \"description\": \"the \u001b[0m\n",
       "\u001b[32munit of time of a duration\", \"type\": \"string\"\u001b[0m\u001b[32m}\u001b[0m\u001b[32m}\u001b[0m\u001b[32m, \"required\": \u001b[0m\u001b[32m[\u001b[0m\u001b[32m\"value\", \"unit\"\u001b[0m\u001b[32m]\u001b[0m\u001b[32m}\u001b[0m\u001b[32m, \"Exercise\": \u001b[0m\u001b[32m{\u001b[0m\u001b[32m\"title\": \"Exercise\", \u001b[0m\n",
       "\u001b[32m\"type\": \"object\", \"properties\": \u001b[0m\u001b[32m{\u001b[0m\u001b[32m\"name\": \u001b[0m\u001b[32m{\u001b[0m\u001b[32m\"title\": \"Name\", \"description\": \"name of the exercise\", \"type\": \u001b[0m\n",
       "\u001b[32m\"string\"\u001b[0m\u001b[32m}\u001b[0m\u001b[32m, \"exercise_type\": \u001b[0m\u001b[32m{\u001b[0m\u001b[32m\"title\": \"Exercise Type\", \"description\": \"type of exercise \u001b[0m\u001b[32m(\u001b[0m\u001b[32me.g., warmup, cardio, \u001b[0m\n",
       "\u001b[32mstretching, strength\u001b[0m\u001b[32m)\u001b[0m\u001b[32m\", \"type\": \"string\"\u001b[0m\u001b[32m}\u001b[0m\u001b[32m, \"sets\": \u001b[0m\u001b[32m{\u001b[0m\u001b[32m\"title\": \"Sets\", \"description\": \"number of sets to perform\", \u001b[0m\n",
       "\u001b[32m\"type\": \"integer\"\u001b[0m\u001b[32m}\u001b[0m\u001b[32m, \"reps\": \u001b[0m\u001b[32m{\u001b[0m\u001b[32m\"title\": \"Reps\", \"description\": \"number of repetitions per set\", \"type\": \"integer\"\u001b[0m\u001b[32m}\u001b[0m\u001b[32m, \u001b[0m\n",
       "\u001b[32m\"duration\": \u001b[0m\u001b[32m{\u001b[0m\u001b[32m\"title\": \"Duration\", \"description\": \"duration of the exercise, if applicable\", \"allOf\": \u001b[0m\u001b[32m[\u001b[0m\u001b[32m{\u001b[0m\u001b[32m\"$ref\": \u001b[0m\n",
       "\u001b[32m\"#/definitions/Duration\"\u001b[0m\u001b[32m}\u001b[0m\u001b[32m]\u001b[0m\u001b[32m}\u001b[0m\u001b[32m}\u001b[0m\u001b[32m, \"required\": \u001b[0m\u001b[32m[\u001b[0m\u001b[32m\"name\"\u001b[0m\u001b[32m]\u001b[0m\u001b[32m}\u001b[0m\u001b[32m, \"Day\": \u001b[0m\u001b[32m{\u001b[0m\u001b[32m\"title\": \"Day\", \"type\": \"object\", \"properties\": \u001b[0m\n",
       "\u001b[32m{\u001b[0m\u001b[32m\"day_number\": \u001b[0m\u001b[32m{\u001b[0m\u001b[32m\"title\": \"Day Number\", \"description\": \"the day number within the workout plan\", \"type\": \"integer\"\u001b[0m\u001b[32m}\u001b[0m\u001b[32m,\u001b[0m\n",
       "\u001b[32m\"focus\": \u001b[0m\u001b[32m{\u001b[0m\u001b[32m\"title\": \"Focus\", \"description\": \"primary focus area of the day\", \"type\": \"string\"\u001b[0m\u001b[32m}\u001b[0m\u001b[32m, \"exercises\": \u001b[0m\n",
       "\u001b[32m{\u001b[0m\u001b[32m\"title\": \"Exercises\", \"description\": \"list of exercises to be performed\", \"type\": \"array\", \"items\": \u001b[0m\u001b[32m{\u001b[0m\u001b[32m\"$ref\": \u001b[0m\n",
       "\u001b[32m\"#/definitions/Exercise\"\u001b[0m\u001b[32m}\u001b[0m\u001b[32m}\u001b[0m\u001b[32m}\u001b[0m\u001b[32m, \"required\": \u001b[0m\u001b[32m[\u001b[0m\u001b[32m\"day_number\", \"focus\"\u001b[0m\u001b[32m]\u001b[0m\u001b[32m}\u001b[0m\u001b[32m, \"Week\": \u001b[0m\u001b[32m{\u001b[0m\u001b[32m\"title\": \"Week\", \"type\": \"object\", \u001b[0m\n",
       "\u001b[32m\"properties\": \u001b[0m\u001b[32m{\u001b[0m\u001b[32m\"week_range\": \u001b[0m\u001b[32m{\u001b[0m\u001b[32m\"title\": \"Week Range\", \"description\": \"week numbers the workout plan has to be \u001b[0m\n",
       "\u001b[32mfollowed \u001b[0m\u001b[32m(\u001b[0m\u001b[32me.g., Week 1-4, Week 5-7\u001b[0m\u001b[32m)\u001b[0m\u001b[32m\", \"type\": \"string\"\u001b[0m\u001b[32m}\u001b[0m\u001b[32m, \"days\": \u001b[0m\u001b[32m{\u001b[0m\u001b[32m\"title\": \"Days\", \"default\": \"list of days in the \u001b[0m\n",
       "\u001b[32mworkout plan for specific week\", \"type\": \"array\", \"items\": \u001b[0m\u001b[32m{\u001b[0m\u001b[32m\"$ref\": \"#/definitions/Day\"\u001b[0m\u001b[32m}\u001b[0m\u001b[32m}\u001b[0m\u001b[32m}\u001b[0m\u001b[32m, \"required\": \u001b[0m\n",
       "\u001b[32m[\u001b[0m\u001b[32m\"week_range\"\u001b[0m\u001b[32m]\u001b[0m\u001b[32m}\u001b[0m\u001b[32m, \"Note\": \u001b[0m\u001b[32m{\u001b[0m\u001b[32m\"title\": \"Note\", \"type\": \"object\", \"properties\": \u001b[0m\u001b[32m{\u001b[0m\u001b[32m\"content\": \u001b[0m\u001b[32m{\u001b[0m\u001b[32m\"title\": \"Content\", \u001b[0m\n",
       "\u001b[32m\"description\": \"the content of the note\", \"type\": \"string\"\u001b[0m\u001b[32m}\u001b[0m\u001b[32m}\u001b[0m\u001b[32m, \"required\": \u001b[0m\u001b[32m[\u001b[0m\u001b[32m\"content\"\u001b[0m\u001b[32m]\u001b[0m\u001b[32m}\u001b[0m\u001b[32m}\u001b[0m\u001b[32m}\u001b[0m\u001b[32m\\n```'\u001b[0m, \n",
       "\u001b[33madditional_kwargs\u001b[0m=\u001b[1m{\u001b[0m\u001b[1m}\u001b[0m, \u001b[33mexample\u001b[0m=\u001b[3;91mFalse\u001b[0m\u001b[1m)\u001b[0m\n",
       "\u001b[1m]\u001b[0m\n"
      ]
     },
     "metadata": {},
     "output_type": "display_data"
    }
   ],
   "source": [
    "chat_prompt = ChatPromptTemplate.from_messages(\n",
    "    [system_message, question_message, answer_message, format_message]\n",
    ")\n",
    "\n",
    "messages = chat_prompt.format_prompt(format_instructions=parser.get_format_instructions()).to_messages()\n",
    "\n",
    "print(messages)"
   ]
  },
  {
   "cell_type": "code",
   "execution_count": 12,
   "metadata": {},
   "outputs": [],
   "source": [
    "chat = ChatOpenAI(model_name=\"gpt-4\", temperature=0.4, openai_api_key=openai_api_key, verbose=True)\n"
   ]
  },
  {
   "cell_type": "code",
   "execution_count": 12,
   "metadata": {},
   "outputs": [],
   "source": [
    "chat_turbo = ChatOpenAI(model_name=\"gpt-3.5-turbo\", temperature=0.4, openai_api_key=openai_api_key, verbose=True)\n"
   ]
  },
  {
   "cell_type": "code",
   "execution_count": 13,
   "metadata": {},
   "outputs": [],
   "source": [
    "response = chat(messages)"
   ]
  },
  {
   "cell_type": "code",
   "execution_count": 17,
   "metadata": {},
   "outputs": [
    {
     "data": {
      "text/html": [
       "<pre style=\"white-space:pre;overflow-x:auto;line-height:normal;font-family:Menlo,'DejaVu Sans Mono',consolas,'Courier New',monospace\"><span style=\"font-weight: bold\">{</span>\n",
       "  <span style=\"color: #008000; text-decoration-color: #008000\">\"weeks\"</span>: <span style=\"font-weight: bold\">[</span>\n",
       "    <span style=\"font-weight: bold\">{</span>\n",
       "      <span style=\"color: #008000; text-decoration-color: #008000\">\"week_range\"</span>: <span style=\"color: #008000; text-decoration-color: #008000\">\"Week 1-4\"</span>,\n",
       "      <span style=\"color: #008000; text-decoration-color: #008000\">\"days\"</span>: <span style=\"font-weight: bold\">[</span>\n",
       "        <span style=\"font-weight: bold\">{</span>\n",
       "          <span style=\"color: #008000; text-decoration-color: #008000\">\"day_number\"</span>: <span style=\"color: #008080; text-decoration-color: #008080; font-weight: bold\">1</span>,\n",
       "          <span style=\"color: #008000; text-decoration-color: #008000\">\"focus\"</span>: <span style=\"color: #008000; text-decoration-color: #008000\">\"Upper Body\"</span>,\n",
       "          <span style=\"color: #008000; text-decoration-color: #008000\">\"exercises\"</span>: <span style=\"font-weight: bold\">[</span>\n",
       "            <span style=\"font-weight: bold\">{</span>\n",
       "              <span style=\"color: #008000; text-decoration-color: #008000\">\"name\"</span>: <span style=\"color: #008000; text-decoration-color: #008000\">\"Bench Press\"</span>,\n",
       "              <span style=\"color: #008000; text-decoration-color: #008000\">\"exercise_type\"</span>: <span style=\"color: #008000; text-decoration-color: #008000\">\"Strength\"</span>,\n",
       "              <span style=\"color: #008000; text-decoration-color: #008000\">\"sets\"</span>: <span style=\"color: #008080; text-decoration-color: #008080; font-weight: bold\">3</span>,\n",
       "              <span style=\"color: #008000; text-decoration-color: #008000\">\"reps\"</span>: <span style=\"color: #008080; text-decoration-color: #008080; font-weight: bold\">10</span>\n",
       "            <span style=\"font-weight: bold\">}</span>,\n",
       "            <span style=\"font-weight: bold\">{</span>\n",
       "              <span style=\"color: #008000; text-decoration-color: #008000\">\"name\"</span>: <span style=\"color: #008000; text-decoration-color: #008000\">\"Pull-ups\"</span>,\n",
       "              <span style=\"color: #008000; text-decoration-color: #008000\">\"exercise_type\"</span>: <span style=\"color: #008000; text-decoration-color: #008000\">\"Strength\"</span>,\n",
       "              <span style=\"color: #008000; text-decoration-color: #008000\">\"sets\"</span>: <span style=\"color: #008080; text-decoration-color: #008080; font-weight: bold\">3</span>,\n",
       "              <span style=\"color: #008000; text-decoration-color: #008000\">\"reps\"</span>: <span style=\"color: #008080; text-decoration-color: #008080; font-weight: bold\">8</span>\n",
       "            <span style=\"font-weight: bold\">}</span>,\n",
       "            <span style=\"font-weight: bold\">{</span>\n",
       "              <span style=\"color: #008000; text-decoration-color: #008000\">\"name\"</span>: <span style=\"color: #008000; text-decoration-color: #008000\">\"Dumbbell Shoulder Press\"</span>,\n",
       "              <span style=\"color: #008000; text-decoration-color: #008000\">\"exercise_type\"</span>: <span style=\"color: #008000; text-decoration-color: #008000\">\"Strength\"</span>,\n",
       "              <span style=\"color: #008000; text-decoration-color: #008000\">\"sets\"</span>: <span style=\"color: #008080; text-decoration-color: #008080; font-weight: bold\">3</span>,\n",
       "              <span style=\"color: #008000; text-decoration-color: #008000\">\"reps\"</span>: <span style=\"color: #008080; text-decoration-color: #008080; font-weight: bold\">10</span>\n",
       "            <span style=\"font-weight: bold\">}</span>,\n",
       "            <span style=\"font-weight: bold\">{</span>\n",
       "              <span style=\"color: #008000; text-decoration-color: #008000\">\"name\"</span>: <span style=\"color: #008000; text-decoration-color: #008000\">\"Tricep Dips\"</span>,\n",
       "              <span style=\"color: #008000; text-decoration-color: #008000\">\"exercise_type\"</span>: <span style=\"color: #008000; text-decoration-color: #008000\">\"Strength\"</span>,\n",
       "              <span style=\"color: #008000; text-decoration-color: #008000\">\"sets\"</span>: <span style=\"color: #008080; text-decoration-color: #008080; font-weight: bold\">3</span>,\n",
       "              <span style=\"color: #008000; text-decoration-color: #008000\">\"reps\"</span>: <span style=\"color: #008080; text-decoration-color: #008080; font-weight: bold\">12</span>\n",
       "            <span style=\"font-weight: bold\">}</span>,\n",
       "            <span style=\"font-weight: bold\">{</span>\n",
       "              <span style=\"color: #008000; text-decoration-color: #008000\">\"name\"</span>: <span style=\"color: #008000; text-decoration-color: #008000\">\"Bicep Curls\"</span>,\n",
       "              <span style=\"color: #008000; text-decoration-color: #008000\">\"exercise_type\"</span>: <span style=\"color: #008000; text-decoration-color: #008000\">\"Strength\"</span>,\n",
       "              <span style=\"color: #008000; text-decoration-color: #008000\">\"sets\"</span>: <span style=\"color: #008080; text-decoration-color: #008080; font-weight: bold\">3</span>,\n",
       "              <span style=\"color: #008000; text-decoration-color: #008000\">\"reps\"</span>: <span style=\"color: #008080; text-decoration-color: #008080; font-weight: bold\">12</span>\n",
       "            <span style=\"font-weight: bold\">}</span>\n",
       "          <span style=\"font-weight: bold\">]</span>\n",
       "        <span style=\"font-weight: bold\">}</span>,\n",
       "        <span style=\"font-weight: bold\">{</span>\n",
       "          <span style=\"color: #008000; text-decoration-color: #008000\">\"day_number\"</span>: <span style=\"color: #008080; text-decoration-color: #008080; font-weight: bold\">2</span>,\n",
       "          <span style=\"color: #008000; text-decoration-color: #008000\">\"focus\"</span>: <span style=\"color: #008000; text-decoration-color: #008000\">\"Cardio\"</span>,\n",
       "          <span style=\"color: #008000; text-decoration-color: #008000\">\"exercises\"</span>: <span style=\"font-weight: bold\">[</span>\n",
       "            <span style=\"font-weight: bold\">{</span>\n",
       "              <span style=\"color: #008000; text-decoration-color: #008000\">\"name\"</span>: <span style=\"color: #008000; text-decoration-color: #008000\">\"Treadmill\"</span>,\n",
       "              <span style=\"color: #008000; text-decoration-color: #008000\">\"exercise_type\"</span>: <span style=\"color: #008000; text-decoration-color: #008000\">\"Cardio\"</span>,\n",
       "              <span style=\"color: #008000; text-decoration-color: #008000\">\"duration\"</span>: <span style=\"font-weight: bold\">{</span>\n",
       "                <span style=\"color: #008000; text-decoration-color: #008000\">\"value\"</span>: <span style=\"color: #008080; text-decoration-color: #008080; font-weight: bold\">30</span>,\n",
       "                <span style=\"color: #008000; text-decoration-color: #008000\">\"unit\"</span>: <span style=\"color: #008000; text-decoration-color: #008000\">\"minutes\"</span>\n",
       "              <span style=\"font-weight: bold\">}</span>\n",
       "            <span style=\"font-weight: bold\">}</span>\n",
       "          <span style=\"font-weight: bold\">]</span>\n",
       "        <span style=\"font-weight: bold\">}</span>,\n",
       "        <span style=\"font-weight: bold\">{</span>\n",
       "          <span style=\"color: #008000; text-decoration-color: #008000\">\"day_number\"</span>: <span style=\"color: #008080; text-decoration-color: #008080; font-weight: bold\">3</span>,\n",
       "          <span style=\"color: #008000; text-decoration-color: #008000\">\"focus\"</span>: <span style=\"color: #008000; text-decoration-color: #008000\">\"Rest\"</span>,\n",
       "          <span style=\"color: #008000; text-decoration-color: #008000\">\"exercises\"</span>: <span style=\"font-weight: bold\">[]</span>\n",
       "        <span style=\"font-weight: bold\">}</span>,\n",
       "        <span style=\"font-weight: bold\">{</span>\n",
       "          <span style=\"color: #008000; text-decoration-color: #008000\">\"day_number\"</span>: <span style=\"color: #008080; text-decoration-color: #008080; font-weight: bold\">4</span>,\n",
       "          <span style=\"color: #008000; text-decoration-color: #008000\">\"focus\"</span>: <span style=\"color: #008000; text-decoration-color: #008000\">\"Core\"</span>,\n",
       "          <span style=\"color: #008000; text-decoration-color: #008000\">\"exercises\"</span>: <span style=\"font-weight: bold\">[</span>\n",
       "            <span style=\"font-weight: bold\">{</span>\n",
       "              <span style=\"color: #008000; text-decoration-color: #008000\">\"name\"</span>: <span style=\"color: #008000; text-decoration-color: #008000\">\"Plank\"</span>,\n",
       "              <span style=\"color: #008000; text-decoration-color: #008000\">\"exercise_type\"</span>: <span style=\"color: #008000; text-decoration-color: #008000\">\"Strength\"</span>,\n",
       "              <span style=\"color: #008000; text-decoration-color: #008000\">\"sets\"</span>: <span style=\"color: #008080; text-decoration-color: #008080; font-weight: bold\">3</span>,\n",
       "              <span style=\"color: #008000; text-decoration-color: #008000\">\"duration\"</span>: <span style=\"font-weight: bold\">{</span>\n",
       "                <span style=\"color: #008000; text-decoration-color: #008000\">\"value\"</span>: <span style=\"color: #008080; text-decoration-color: #008080; font-weight: bold\">60</span>,\n",
       "                <span style=\"color: #008000; text-decoration-color: #008000\">\"unit\"</span>: <span style=\"color: #008000; text-decoration-color: #008000\">\"seconds\"</span>\n",
       "              <span style=\"font-weight: bold\">}</span>\n",
       "            <span style=\"font-weight: bold\">}</span>,\n",
       "            <span style=\"font-weight: bold\">{</span>\n",
       "              <span style=\"color: #008000; text-decoration-color: #008000\">\"name\"</span>: <span style=\"color: #008000; text-decoration-color: #008000\">\"Russian Twists\"</span>,\n",
       "              <span style=\"color: #008000; text-decoration-color: #008000\">\"exercise_type\"</span>: <span style=\"color: #008000; text-decoration-color: #008000\">\"Strength\"</span>,\n",
       "              <span style=\"color: #008000; text-decoration-color: #008000\">\"sets\"</span>: <span style=\"color: #008080; text-decoration-color: #008080; font-weight: bold\">3</span>,\n",
       "              <span style=\"color: #008000; text-decoration-color: #008000\">\"reps\"</span>: <span style=\"color: #008080; text-decoration-color: #008080; font-weight: bold\">15</span>\n",
       "            <span style=\"font-weight: bold\">}</span>,\n",
       "            <span style=\"font-weight: bold\">{</span>\n",
       "              <span style=\"color: #008000; text-decoration-color: #008000\">\"name\"</span>: <span style=\"color: #008000; text-decoration-color: #008000\">\"Leg Raises\"</span>,\n",
       "              <span style=\"color: #008000; text-decoration-color: #008000\">\"exercise_type\"</span>: <span style=\"color: #008000; text-decoration-color: #008000\">\"Strength\"</span>,\n",
       "              <span style=\"color: #008000; text-decoration-color: #008000\">\"sets\"</span>: <span style=\"color: #008080; text-decoration-color: #008080; font-weight: bold\">3</span>,\n",
       "              <span style=\"color: #008000; text-decoration-color: #008000\">\"reps\"</span>: <span style=\"color: #008080; text-decoration-color: #008080; font-weight: bold\">12</span>\n",
       "            <span style=\"font-weight: bold\">}</span>,\n",
       "            <span style=\"font-weight: bold\">{</span>\n",
       "              <span style=\"color: #008000; text-decoration-color: #008000\">\"name\"</span>: <span style=\"color: #008000; text-decoration-color: #008000\">\"Bicycle Crunches\"</span>,\n",
       "              <span style=\"color: #008000; text-decoration-color: #008000\">\"exercise_type\"</span>: <span style=\"color: #008000; text-decoration-color: #008000\">\"Strength\"</span>,\n",
       "              <span style=\"color: #008000; text-decoration-color: #008000\">\"sets\"</span>: <span style=\"color: #008080; text-decoration-color: #008080; font-weight: bold\">3</span>,\n",
       "              <span style=\"color: #008000; text-decoration-color: #008000\">\"reps\"</span>: <span style=\"color: #008080; text-decoration-color: #008080; font-weight: bold\">15</span>\n",
       "            <span style=\"font-weight: bold\">}</span>\n",
       "          <span style=\"font-weight: bold\">]</span>\n",
       "        <span style=\"font-weight: bold\">}</span>\n",
       "      <span style=\"font-weight: bold\">]</span>\n",
       "    <span style=\"font-weight: bold\">}</span>,\n",
       "    <span style=\"font-weight: bold\">{</span>\n",
       "      <span style=\"color: #008000; text-decoration-color: #008000\">\"week_range\"</span>: <span style=\"color: #008000; text-decoration-color: #008000\">\"Week 5-8\"</span>,\n",
       "      <span style=\"color: #008000; text-decoration-color: #008000\">\"days\"</span>: <span style=\"font-weight: bold\">[</span>\n",
       "        <span style=\"font-weight: bold\">{</span>\n",
       "          <span style=\"color: #008000; text-decoration-color: #008000\">\"day_number\"</span>: <span style=\"color: #008080; text-decoration-color: #008080; font-weight: bold\">1</span>,\n",
       "          <span style=\"color: #008000; text-decoration-color: #008000\">\"focus\"</span>: <span style=\"color: #008000; text-decoration-color: #008000\">\"Upper Body\"</span>,\n",
       "          <span style=\"color: #008000; text-decoration-color: #008000\">\"exercises\"</span>: <span style=\"font-weight: bold\">[</span>\n",
       "            <span style=\"font-weight: bold\">{</span>\n",
       "              <span style=\"color: #008000; text-decoration-color: #008000\">\"name\"</span>: <span style=\"color: #008000; text-decoration-color: #008000\">\"Bench Press\"</span>,\n",
       "              <span style=\"color: #008000; text-decoration-color: #008000\">\"exercise_type\"</span>: <span style=\"color: #008000; text-decoration-color: #008000\">\"Strength\"</span>,\n",
       "              <span style=\"color: #008000; text-decoration-color: #008000\">\"sets\"</span>: <span style=\"color: #008080; text-decoration-color: #008080; font-weight: bold\">4</span>,\n",
       "              <span style=\"color: #008000; text-decoration-color: #008000\">\"reps\"</span>: <span style=\"color: #008080; text-decoration-color: #008080; font-weight: bold\">10</span>\n",
       "            <span style=\"font-weight: bold\">}</span>,\n",
       "            <span style=\"font-weight: bold\">{</span>\n",
       "              <span style=\"color: #008000; text-decoration-color: #008000\">\"name\"</span>: <span style=\"color: #008000; text-decoration-color: #008000\">\"Pull-ups\"</span>,\n",
       "              <span style=\"color: #008000; text-decoration-color: #008000\">\"exercise_type\"</span>: <span style=\"color: #008000; text-decoration-color: #008000\">\"Strength\"</span>,\n",
       "              <span style=\"color: #008000; text-decoration-color: #008000\">\"sets\"</span>: <span style=\"color: #008080; text-decoration-color: #008080; font-weight: bold\">4</span>,\n",
       "              <span style=\"color: #008000; text-decoration-color: #008000\">\"reps\"</span>: <span style=\"color: #008080; text-decoration-color: #008080; font-weight: bold\">8</span>\n",
       "            <span style=\"font-weight: bold\">}</span>,\n",
       "            <span style=\"font-weight: bold\">{</span>\n",
       "              <span style=\"color: #008000; text-decoration-color: #008000\">\"name\"</span>: <span style=\"color: #008000; text-decoration-color: #008000\">\"Dumbbell Shoulder Press\"</span>,\n",
       "              <span style=\"color: #008000; text-decoration-color: #008000\">\"exercise_type\"</span>: <span style=\"color: #008000; text-decoration-color: #008000\">\"Strength\"</span>,\n",
       "              <span style=\"color: #008000; text-decoration-color: #008000\">\"sets\"</span>: <span style=\"color: #008080; text-decoration-color: #008080; font-weight: bold\">4</span>,\n",
       "              <span style=\"color: #008000; text-decoration-color: #008000\">\"reps\"</span>: <span style=\"color: #008080; text-decoration-color: #008080; font-weight: bold\">10</span>\n",
       "            <span style=\"font-weight: bold\">}</span>,\n",
       "            <span style=\"font-weight: bold\">{</span>\n",
       "              <span style=\"color: #008000; text-decoration-color: #008000\">\"name\"</span>: <span style=\"color: #008000; text-decoration-color: #008000\">\"Tricep Dips\"</span>,\n",
       "              <span style=\"color: #008000; text-decoration-color: #008000\">\"exercise_type\"</span>: <span style=\"color: #008000; text-decoration-color: #008000\">\"Strength\"</span>,\n",
       "              <span style=\"color: #008000; text-decoration-color: #008000\">\"sets\"</span>: <span style=\"color: #008080; text-decoration-color: #008080; font-weight: bold\">4</span>,\n",
       "              <span style=\"color: #008000; text-decoration-color: #008000\">\"reps\"</span>: <span style=\"color: #008080; text-decoration-color: #008080; font-weight: bold\">12</span>\n",
       "            <span style=\"font-weight: bold\">}</span>,\n",
       "            <span style=\"font-weight: bold\">{</span>\n",
       "              <span style=\"color: #008000; text-decoration-color: #008000\">\"name\"</span>: <span style=\"color: #008000; text-decoration-color: #008000\">\"Bicep Curls\"</span>,\n",
       "              <span style=\"color: #008000; text-decoration-color: #008000\">\"exercise_type\"</span>: <span style=\"color: #008000; text-decoration-color: #008000\">\"Strength\"</span>,\n",
       "              <span style=\"color: #008000; text-decoration-color: #008000\">\"sets\"</span>: <span style=\"color: #008080; text-decoration-color: #008080; font-weight: bold\">4</span>,\n",
       "              <span style=\"color: #008000; text-decoration-color: #008000\">\"reps\"</span>: <span style=\"color: #008080; text-decoration-color: #008080; font-weight: bold\">12</span>\n",
       "            <span style=\"font-weight: bold\">}</span>\n",
       "          <span style=\"font-weight: bold\">]</span>\n",
       "        <span style=\"font-weight: bold\">}</span>,\n",
       "        <span style=\"font-weight: bold\">{</span>\n",
       "          <span style=\"color: #008000; text-decoration-color: #008000\">\"day_number\"</span>: <span style=\"color: #008080; text-decoration-color: #008080; font-weight: bold\">2</span>,\n",
       "          <span style=\"color: #008000; text-decoration-color: #008000\">\"focus\"</span>: <span style=\"color: #008000; text-decoration-color: #008000\">\"Cardio\"</span>,\n",
       "          <span style=\"color: #008000; text-decoration-color: #008000\">\"exercises\"</span>: <span style=\"font-weight: bold\">[</span>\n",
       "            <span style=\"font-weight: bold\">{</span>\n",
       "              <span style=\"color: #008000; text-decoration-color: #008000\">\"name\"</span>: <span style=\"color: #008000; text-decoration-color: #008000\">\"Treadmill\"</span>,\n",
       "              <span style=\"color: #008000; text-decoration-color: #008000\">\"exercise_type\"</span>: <span style=\"color: #008000; text-decoration-color: #008000\">\"Cardio\"</span>,\n",
       "              <span style=\"color: #008000; text-decoration-color: #008000\">\"duration\"</span>: <span style=\"font-weight: bold\">{</span>\n",
       "                <span style=\"color: #008000; text-decoration-color: #008000\">\"value\"</span>: <span style=\"color: #008080; text-decoration-color: #008080; font-weight: bold\">40</span>,\n",
       "                <span style=\"color: #008000; text-decoration-color: #008000\">\"unit\"</span>: <span style=\"color: #008000; text-decoration-color: #008000\">\"minutes\"</span>\n",
       "              <span style=\"font-weight: bold\">}</span>\n",
       "            <span style=\"font-weight: bold\">}</span>\n",
       "          <span style=\"font-weight: bold\">]</span>\n",
       "        <span style=\"font-weight: bold\">}</span>,\n",
       "        <span style=\"font-weight: bold\">{</span>\n",
       "          <span style=\"color: #008000; text-decoration-color: #008000\">\"day_number\"</span>: <span style=\"color: #008080; text-decoration-color: #008080; font-weight: bold\">3</span>,\n",
       "          <span style=\"color: #008000; text-decoration-color: #008000\">\"focus\"</span>: <span style=\"color: #008000; text-decoration-color: #008000\">\"Rest\"</span>,\n",
       "          <span style=\"color: #008000; text-decoration-color: #008000\">\"exercises\"</span>: <span style=\"font-weight: bold\">[]</span>\n",
       "        <span style=\"font-weight: bold\">}</span>,\n",
       "        <span style=\"font-weight: bold\">{</span>\n",
       "          <span style=\"color: #008000; text-decoration-color: #008000\">\"day_number\"</span>: <span style=\"color: #008080; text-decoration-color: #008080; font-weight: bold\">4</span>,\n",
       "          <span style=\"color: #008000; text-decoration-color: #008000\">\"focus\"</span>: <span style=\"color: #008000; text-decoration-color: #008000\">\"Core\"</span>,\n",
       "          <span style=\"color: #008000; text-decoration-color: #008000\">\"exercises\"</span>: <span style=\"font-weight: bold\">[</span>\n",
       "            <span style=\"font-weight: bold\">{</span>\n",
       "              <span style=\"color: #008000; text-decoration-color: #008000\">\"name\"</span>: <span style=\"color: #008000; text-decoration-color: #008000\">\"Plank\"</span>,\n",
       "              <span style=\"color: #008000; text-decoration-color: #008000\">\"exercise_type\"</span>: <span style=\"color: #008000; text-decoration-color: #008000\">\"Strength\"</span>,\n",
       "              <span style=\"color: #008000; text-decoration-color: #008000\">\"sets\"</span>: <span style=\"color: #008080; text-decoration-color: #008080; font-weight: bold\">4</span>,\n",
       "              <span style=\"color: #008000; text-decoration-color: #008000\">\"duration\"</span>: <span style=\"font-weight: bold\">{</span>\n",
       "                <span style=\"color: #008000; text-decoration-color: #008000\">\"value\"</span>: <span style=\"color: #008080; text-decoration-color: #008080; font-weight: bold\">60</span>,\n",
       "                <span style=\"color: #008000; text-decoration-color: #008000\">\"unit\"</span>: <span style=\"color: #008000; text-decoration-color: #008000\">\"seconds\"</span>\n",
       "              <span style=\"font-weight: bold\">}</span>\n",
       "            <span style=\"font-weight: bold\">}</span>,\n",
       "            <span style=\"font-weight: bold\">{</span>\n",
       "              <span style=\"color: #008000; text-decoration-color: #008000\">\"name\"</span>: <span style=\"color: #008000; text-decoration-color: #008000\">\"Russian Twists\"</span>,\n",
       "              <span style=\"color: #008000; text-decoration-color: #008000\">\"exercise_type\"</span>: <span style=\"color: #008000; text-decoration-color: #008000\">\"Strength\"</span>,\n",
       "              <span style=\"color: #008000; text-decoration-color: #008000\">\"sets\"</span>: <span style=\"color: #008080; text-decoration-color: #008080; font-weight: bold\">4</span>,\n",
       "              <span style=\"color: #008000; text-decoration-color: #008000\">\"reps\"</span>: <span style=\"color: #008080; text-decoration-color: #008080; font-weight: bold\">15</span>\n",
       "            <span style=\"font-weight: bold\">}</span>,\n",
       "            <span style=\"font-weight: bold\">{</span>\n",
       "              <span style=\"color: #008000; text-decoration-color: #008000\">\"name\"</span>: <span style=\"color: #008000; text-decoration-color: #008000\">\"Leg Raises\"</span>,\n",
       "              <span style=\"color: #008000; text-decoration-color: #008000\">\"exercise_type\"</span>: <span style=\"color: #008000; text-decoration-color: #008000\">\"Strength\"</span>,\n",
       "              <span style=\"color: #008000; text-decoration-color: #008000\">\"sets\"</span>: <span style=\"color: #008080; text-decoration-color: #008080; font-weight: bold\">4</span>,\n",
       "              <span style=\"color: #008000; text-decoration-color: #008000\">\"reps\"</span>: <span style=\"color: #008080; text-decoration-color: #008080; font-weight: bold\">12</span>\n",
       "            <span style=\"font-weight: bold\">}</span>,\n",
       "            <span style=\"font-weight: bold\">{</span>\n",
       "              <span style=\"color: #008000; text-decoration-color: #008000\">\"name\"</span>: <span style=\"color: #008000; text-decoration-color: #008000\">\"Bicycle Crunches\"</span>,\n",
       "              <span style=\"color: #008000; text-decoration-color: #008000\">\"exercise_type\"</span>: <span style=\"color: #008000; text-decoration-color: #008000\">\"Strength\"</span>,\n",
       "              <span style=\"color: #008000; text-decoration-color: #008000\">\"sets\"</span>: <span style=\"color: #008080; text-decoration-color: #008080; font-weight: bold\">4</span>,\n",
       "              <span style=\"color: #008000; text-decoration-color: #008000\">\"reps\"</span>: <span style=\"color: #008080; text-decoration-color: #008080; font-weight: bold\">15</span>\n",
       "            <span style=\"font-weight: bold\">}</span>\n",
       "          <span style=\"font-weight: bold\">]</span>\n",
       "        <span style=\"font-weight: bold\">}</span>\n",
       "      <span style=\"font-weight: bold\">]</span>\n",
       "    <span style=\"font-weight: bold\">}</span>\n",
       "  <span style=\"font-weight: bold\">]</span>,\n",
       "  <span style=\"color: #008000; text-decoration-color: #008000\">\"notes\"</span>: <span style=\"font-weight: bold\">[</span>\n",
       "    <span style=\"font-weight: bold\">{</span>\n",
       "      <span style=\"color: #008000; text-decoration-color: #008000\">\"content\"</span>: <span style=\"color: #008000; text-decoration-color: #008000\">\"Remember to warm up for 5-10 minutes before each workout session.\"</span>\n",
       "    <span style=\"font-weight: bold\">}</span>,\n",
       "    <span style=\"font-weight: bold\">{</span>\n",
       "      <span style=\"color: #008000; text-decoration-color: #008000\">\"content\"</span>: <span style=\"color: #008000; text-decoration-color: #008000\">\"Cool down and stretch for 5-10 minutes after each workout session.\"</span>\n",
       "    <span style=\"font-weight: bold\">}</span>,\n",
       "    <span style=\"font-weight: bold\">{</span>\n",
       "      <span style=\"color: #008000; text-decoration-color: #008000\">\"content\"</span>: <span style=\"color: #008000; text-decoration-color: #008000\">\"Progress at your own pace and listen to your body.\"</span>\n",
       "    <span style=\"font-weight: bold\">}</span>,\n",
       "    <span style=\"font-weight: bold\">{</span>\n",
       "      <span style=\"color: #008000; text-decoration-color: #008000\">\"content\"</span>: <span style=\"color: #008000; text-decoration-color: #008000\">\"Maintain proper form and technique during exercises to avoid injuries.\"</span>\n",
       "    <span style=\"font-weight: bold\">}</span>,\n",
       "    <span style=\"font-weight: bold\">{</span>\n",
       "      <span style=\"color: #008000; text-decoration-color: #008000\">\"content\"</span>: <span style=\"color: #008000; text-decoration-color: #008000\">\"Stay consistent with your workouts and nutrition for optimal results.\"</span>\n",
       "    <span style=\"font-weight: bold\">}</span>\n",
       "  <span style=\"font-weight: bold\">]</span>\n",
       "<span style=\"font-weight: bold\">}</span>\n",
       "</pre>\n"
      ],
      "text/plain": [
       "\u001b[1m{\u001b[0m\n",
       "  \u001b[32m\"weeks\"\u001b[0m: \u001b[1m[\u001b[0m\n",
       "    \u001b[1m{\u001b[0m\n",
       "      \u001b[32m\"week_range\"\u001b[0m: \u001b[32m\"Week 1-4\"\u001b[0m,\n",
       "      \u001b[32m\"days\"\u001b[0m: \u001b[1m[\u001b[0m\n",
       "        \u001b[1m{\u001b[0m\n",
       "          \u001b[32m\"day_number\"\u001b[0m: \u001b[1;36m1\u001b[0m,\n",
       "          \u001b[32m\"focus\"\u001b[0m: \u001b[32m\"Upper Body\"\u001b[0m,\n",
       "          \u001b[32m\"exercises\"\u001b[0m: \u001b[1m[\u001b[0m\n",
       "            \u001b[1m{\u001b[0m\n",
       "              \u001b[32m\"name\"\u001b[0m: \u001b[32m\"Bench Press\"\u001b[0m,\n",
       "              \u001b[32m\"exercise_type\"\u001b[0m: \u001b[32m\"Strength\"\u001b[0m,\n",
       "              \u001b[32m\"sets\"\u001b[0m: \u001b[1;36m3\u001b[0m,\n",
       "              \u001b[32m\"reps\"\u001b[0m: \u001b[1;36m10\u001b[0m\n",
       "            \u001b[1m}\u001b[0m,\n",
       "            \u001b[1m{\u001b[0m\n",
       "              \u001b[32m\"name\"\u001b[0m: \u001b[32m\"Pull-ups\"\u001b[0m,\n",
       "              \u001b[32m\"exercise_type\"\u001b[0m: \u001b[32m\"Strength\"\u001b[0m,\n",
       "              \u001b[32m\"sets\"\u001b[0m: \u001b[1;36m3\u001b[0m,\n",
       "              \u001b[32m\"reps\"\u001b[0m: \u001b[1;36m8\u001b[0m\n",
       "            \u001b[1m}\u001b[0m,\n",
       "            \u001b[1m{\u001b[0m\n",
       "              \u001b[32m\"name\"\u001b[0m: \u001b[32m\"Dumbbell Shoulder Press\"\u001b[0m,\n",
       "              \u001b[32m\"exercise_type\"\u001b[0m: \u001b[32m\"Strength\"\u001b[0m,\n",
       "              \u001b[32m\"sets\"\u001b[0m: \u001b[1;36m3\u001b[0m,\n",
       "              \u001b[32m\"reps\"\u001b[0m: \u001b[1;36m10\u001b[0m\n",
       "            \u001b[1m}\u001b[0m,\n",
       "            \u001b[1m{\u001b[0m\n",
       "              \u001b[32m\"name\"\u001b[0m: \u001b[32m\"Tricep Dips\"\u001b[0m,\n",
       "              \u001b[32m\"exercise_type\"\u001b[0m: \u001b[32m\"Strength\"\u001b[0m,\n",
       "              \u001b[32m\"sets\"\u001b[0m: \u001b[1;36m3\u001b[0m,\n",
       "              \u001b[32m\"reps\"\u001b[0m: \u001b[1;36m12\u001b[0m\n",
       "            \u001b[1m}\u001b[0m,\n",
       "            \u001b[1m{\u001b[0m\n",
       "              \u001b[32m\"name\"\u001b[0m: \u001b[32m\"Bicep Curls\"\u001b[0m,\n",
       "              \u001b[32m\"exercise_type\"\u001b[0m: \u001b[32m\"Strength\"\u001b[0m,\n",
       "              \u001b[32m\"sets\"\u001b[0m: \u001b[1;36m3\u001b[0m,\n",
       "              \u001b[32m\"reps\"\u001b[0m: \u001b[1;36m12\u001b[0m\n",
       "            \u001b[1m}\u001b[0m\n",
       "          \u001b[1m]\u001b[0m\n",
       "        \u001b[1m}\u001b[0m,\n",
       "        \u001b[1m{\u001b[0m\n",
       "          \u001b[32m\"day_number\"\u001b[0m: \u001b[1;36m2\u001b[0m,\n",
       "          \u001b[32m\"focus\"\u001b[0m: \u001b[32m\"Cardio\"\u001b[0m,\n",
       "          \u001b[32m\"exercises\"\u001b[0m: \u001b[1m[\u001b[0m\n",
       "            \u001b[1m{\u001b[0m\n",
       "              \u001b[32m\"name\"\u001b[0m: \u001b[32m\"Treadmill\"\u001b[0m,\n",
       "              \u001b[32m\"exercise_type\"\u001b[0m: \u001b[32m\"Cardio\"\u001b[0m,\n",
       "              \u001b[32m\"duration\"\u001b[0m: \u001b[1m{\u001b[0m\n",
       "                \u001b[32m\"value\"\u001b[0m: \u001b[1;36m30\u001b[0m,\n",
       "                \u001b[32m\"unit\"\u001b[0m: \u001b[32m\"minutes\"\u001b[0m\n",
       "              \u001b[1m}\u001b[0m\n",
       "            \u001b[1m}\u001b[0m\n",
       "          \u001b[1m]\u001b[0m\n",
       "        \u001b[1m}\u001b[0m,\n",
       "        \u001b[1m{\u001b[0m\n",
       "          \u001b[32m\"day_number\"\u001b[0m: \u001b[1;36m3\u001b[0m,\n",
       "          \u001b[32m\"focus\"\u001b[0m: \u001b[32m\"Rest\"\u001b[0m,\n",
       "          \u001b[32m\"exercises\"\u001b[0m: \u001b[1m[\u001b[0m\u001b[1m]\u001b[0m\n",
       "        \u001b[1m}\u001b[0m,\n",
       "        \u001b[1m{\u001b[0m\n",
       "          \u001b[32m\"day_number\"\u001b[0m: \u001b[1;36m4\u001b[0m,\n",
       "          \u001b[32m\"focus\"\u001b[0m: \u001b[32m\"Core\"\u001b[0m,\n",
       "          \u001b[32m\"exercises\"\u001b[0m: \u001b[1m[\u001b[0m\n",
       "            \u001b[1m{\u001b[0m\n",
       "              \u001b[32m\"name\"\u001b[0m: \u001b[32m\"Plank\"\u001b[0m,\n",
       "              \u001b[32m\"exercise_type\"\u001b[0m: \u001b[32m\"Strength\"\u001b[0m,\n",
       "              \u001b[32m\"sets\"\u001b[0m: \u001b[1;36m3\u001b[0m,\n",
       "              \u001b[32m\"duration\"\u001b[0m: \u001b[1m{\u001b[0m\n",
       "                \u001b[32m\"value\"\u001b[0m: \u001b[1;36m60\u001b[0m,\n",
       "                \u001b[32m\"unit\"\u001b[0m: \u001b[32m\"seconds\"\u001b[0m\n",
       "              \u001b[1m}\u001b[0m\n",
       "            \u001b[1m}\u001b[0m,\n",
       "            \u001b[1m{\u001b[0m\n",
       "              \u001b[32m\"name\"\u001b[0m: \u001b[32m\"Russian Twists\"\u001b[0m,\n",
       "              \u001b[32m\"exercise_type\"\u001b[0m: \u001b[32m\"Strength\"\u001b[0m,\n",
       "              \u001b[32m\"sets\"\u001b[0m: \u001b[1;36m3\u001b[0m,\n",
       "              \u001b[32m\"reps\"\u001b[0m: \u001b[1;36m15\u001b[0m\n",
       "            \u001b[1m}\u001b[0m,\n",
       "            \u001b[1m{\u001b[0m\n",
       "              \u001b[32m\"name\"\u001b[0m: \u001b[32m\"Leg Raises\"\u001b[0m,\n",
       "              \u001b[32m\"exercise_type\"\u001b[0m: \u001b[32m\"Strength\"\u001b[0m,\n",
       "              \u001b[32m\"sets\"\u001b[0m: \u001b[1;36m3\u001b[0m,\n",
       "              \u001b[32m\"reps\"\u001b[0m: \u001b[1;36m12\u001b[0m\n",
       "            \u001b[1m}\u001b[0m,\n",
       "            \u001b[1m{\u001b[0m\n",
       "              \u001b[32m\"name\"\u001b[0m: \u001b[32m\"Bicycle Crunches\"\u001b[0m,\n",
       "              \u001b[32m\"exercise_type\"\u001b[0m: \u001b[32m\"Strength\"\u001b[0m,\n",
       "              \u001b[32m\"sets\"\u001b[0m: \u001b[1;36m3\u001b[0m,\n",
       "              \u001b[32m\"reps\"\u001b[0m: \u001b[1;36m15\u001b[0m\n",
       "            \u001b[1m}\u001b[0m\n",
       "          \u001b[1m]\u001b[0m\n",
       "        \u001b[1m}\u001b[0m\n",
       "      \u001b[1m]\u001b[0m\n",
       "    \u001b[1m}\u001b[0m,\n",
       "    \u001b[1m{\u001b[0m\n",
       "      \u001b[32m\"week_range\"\u001b[0m: \u001b[32m\"Week 5-8\"\u001b[0m,\n",
       "      \u001b[32m\"days\"\u001b[0m: \u001b[1m[\u001b[0m\n",
       "        \u001b[1m{\u001b[0m\n",
       "          \u001b[32m\"day_number\"\u001b[0m: \u001b[1;36m1\u001b[0m,\n",
       "          \u001b[32m\"focus\"\u001b[0m: \u001b[32m\"Upper Body\"\u001b[0m,\n",
       "          \u001b[32m\"exercises\"\u001b[0m: \u001b[1m[\u001b[0m\n",
       "            \u001b[1m{\u001b[0m\n",
       "              \u001b[32m\"name\"\u001b[0m: \u001b[32m\"Bench Press\"\u001b[0m,\n",
       "              \u001b[32m\"exercise_type\"\u001b[0m: \u001b[32m\"Strength\"\u001b[0m,\n",
       "              \u001b[32m\"sets\"\u001b[0m: \u001b[1;36m4\u001b[0m,\n",
       "              \u001b[32m\"reps\"\u001b[0m: \u001b[1;36m10\u001b[0m\n",
       "            \u001b[1m}\u001b[0m,\n",
       "            \u001b[1m{\u001b[0m\n",
       "              \u001b[32m\"name\"\u001b[0m: \u001b[32m\"Pull-ups\"\u001b[0m,\n",
       "              \u001b[32m\"exercise_type\"\u001b[0m: \u001b[32m\"Strength\"\u001b[0m,\n",
       "              \u001b[32m\"sets\"\u001b[0m: \u001b[1;36m4\u001b[0m,\n",
       "              \u001b[32m\"reps\"\u001b[0m: \u001b[1;36m8\u001b[0m\n",
       "            \u001b[1m}\u001b[0m,\n",
       "            \u001b[1m{\u001b[0m\n",
       "              \u001b[32m\"name\"\u001b[0m: \u001b[32m\"Dumbbell Shoulder Press\"\u001b[0m,\n",
       "              \u001b[32m\"exercise_type\"\u001b[0m: \u001b[32m\"Strength\"\u001b[0m,\n",
       "              \u001b[32m\"sets\"\u001b[0m: \u001b[1;36m4\u001b[0m,\n",
       "              \u001b[32m\"reps\"\u001b[0m: \u001b[1;36m10\u001b[0m\n",
       "            \u001b[1m}\u001b[0m,\n",
       "            \u001b[1m{\u001b[0m\n",
       "              \u001b[32m\"name\"\u001b[0m: \u001b[32m\"Tricep Dips\"\u001b[0m,\n",
       "              \u001b[32m\"exercise_type\"\u001b[0m: \u001b[32m\"Strength\"\u001b[0m,\n",
       "              \u001b[32m\"sets\"\u001b[0m: \u001b[1;36m4\u001b[0m,\n",
       "              \u001b[32m\"reps\"\u001b[0m: \u001b[1;36m12\u001b[0m\n",
       "            \u001b[1m}\u001b[0m,\n",
       "            \u001b[1m{\u001b[0m\n",
       "              \u001b[32m\"name\"\u001b[0m: \u001b[32m\"Bicep Curls\"\u001b[0m,\n",
       "              \u001b[32m\"exercise_type\"\u001b[0m: \u001b[32m\"Strength\"\u001b[0m,\n",
       "              \u001b[32m\"sets\"\u001b[0m: \u001b[1;36m4\u001b[0m,\n",
       "              \u001b[32m\"reps\"\u001b[0m: \u001b[1;36m12\u001b[0m\n",
       "            \u001b[1m}\u001b[0m\n",
       "          \u001b[1m]\u001b[0m\n",
       "        \u001b[1m}\u001b[0m,\n",
       "        \u001b[1m{\u001b[0m\n",
       "          \u001b[32m\"day_number\"\u001b[0m: \u001b[1;36m2\u001b[0m,\n",
       "          \u001b[32m\"focus\"\u001b[0m: \u001b[32m\"Cardio\"\u001b[0m,\n",
       "          \u001b[32m\"exercises\"\u001b[0m: \u001b[1m[\u001b[0m\n",
       "            \u001b[1m{\u001b[0m\n",
       "              \u001b[32m\"name\"\u001b[0m: \u001b[32m\"Treadmill\"\u001b[0m,\n",
       "              \u001b[32m\"exercise_type\"\u001b[0m: \u001b[32m\"Cardio\"\u001b[0m,\n",
       "              \u001b[32m\"duration\"\u001b[0m: \u001b[1m{\u001b[0m\n",
       "                \u001b[32m\"value\"\u001b[0m: \u001b[1;36m40\u001b[0m,\n",
       "                \u001b[32m\"unit\"\u001b[0m: \u001b[32m\"minutes\"\u001b[0m\n",
       "              \u001b[1m}\u001b[0m\n",
       "            \u001b[1m}\u001b[0m\n",
       "          \u001b[1m]\u001b[0m\n",
       "        \u001b[1m}\u001b[0m,\n",
       "        \u001b[1m{\u001b[0m\n",
       "          \u001b[32m\"day_number\"\u001b[0m: \u001b[1;36m3\u001b[0m,\n",
       "          \u001b[32m\"focus\"\u001b[0m: \u001b[32m\"Rest\"\u001b[0m,\n",
       "          \u001b[32m\"exercises\"\u001b[0m: \u001b[1m[\u001b[0m\u001b[1m]\u001b[0m\n",
       "        \u001b[1m}\u001b[0m,\n",
       "        \u001b[1m{\u001b[0m\n",
       "          \u001b[32m\"day_number\"\u001b[0m: \u001b[1;36m4\u001b[0m,\n",
       "          \u001b[32m\"focus\"\u001b[0m: \u001b[32m\"Core\"\u001b[0m,\n",
       "          \u001b[32m\"exercises\"\u001b[0m: \u001b[1m[\u001b[0m\n",
       "            \u001b[1m{\u001b[0m\n",
       "              \u001b[32m\"name\"\u001b[0m: \u001b[32m\"Plank\"\u001b[0m,\n",
       "              \u001b[32m\"exercise_type\"\u001b[0m: \u001b[32m\"Strength\"\u001b[0m,\n",
       "              \u001b[32m\"sets\"\u001b[0m: \u001b[1;36m4\u001b[0m,\n",
       "              \u001b[32m\"duration\"\u001b[0m: \u001b[1m{\u001b[0m\n",
       "                \u001b[32m\"value\"\u001b[0m: \u001b[1;36m60\u001b[0m,\n",
       "                \u001b[32m\"unit\"\u001b[0m: \u001b[32m\"seconds\"\u001b[0m\n",
       "              \u001b[1m}\u001b[0m\n",
       "            \u001b[1m}\u001b[0m,\n",
       "            \u001b[1m{\u001b[0m\n",
       "              \u001b[32m\"name\"\u001b[0m: \u001b[32m\"Russian Twists\"\u001b[0m,\n",
       "              \u001b[32m\"exercise_type\"\u001b[0m: \u001b[32m\"Strength\"\u001b[0m,\n",
       "              \u001b[32m\"sets\"\u001b[0m: \u001b[1;36m4\u001b[0m,\n",
       "              \u001b[32m\"reps\"\u001b[0m: \u001b[1;36m15\u001b[0m\n",
       "            \u001b[1m}\u001b[0m,\n",
       "            \u001b[1m{\u001b[0m\n",
       "              \u001b[32m\"name\"\u001b[0m: \u001b[32m\"Leg Raises\"\u001b[0m,\n",
       "              \u001b[32m\"exercise_type\"\u001b[0m: \u001b[32m\"Strength\"\u001b[0m,\n",
       "              \u001b[32m\"sets\"\u001b[0m: \u001b[1;36m4\u001b[0m,\n",
       "              \u001b[32m\"reps\"\u001b[0m: \u001b[1;36m12\u001b[0m\n",
       "            \u001b[1m}\u001b[0m,\n",
       "            \u001b[1m{\u001b[0m\n",
       "              \u001b[32m\"name\"\u001b[0m: \u001b[32m\"Bicycle Crunches\"\u001b[0m,\n",
       "              \u001b[32m\"exercise_type\"\u001b[0m: \u001b[32m\"Strength\"\u001b[0m,\n",
       "              \u001b[32m\"sets\"\u001b[0m: \u001b[1;36m4\u001b[0m,\n",
       "              \u001b[32m\"reps\"\u001b[0m: \u001b[1;36m15\u001b[0m\n",
       "            \u001b[1m}\u001b[0m\n",
       "          \u001b[1m]\u001b[0m\n",
       "        \u001b[1m}\u001b[0m\n",
       "      \u001b[1m]\u001b[0m\n",
       "    \u001b[1m}\u001b[0m\n",
       "  \u001b[1m]\u001b[0m,\n",
       "  \u001b[32m\"notes\"\u001b[0m: \u001b[1m[\u001b[0m\n",
       "    \u001b[1m{\u001b[0m\n",
       "      \u001b[32m\"content\"\u001b[0m: \u001b[32m\"Remember to warm up for 5-10 minutes before each workout session.\"\u001b[0m\n",
       "    \u001b[1m}\u001b[0m,\n",
       "    \u001b[1m{\u001b[0m\n",
       "      \u001b[32m\"content\"\u001b[0m: \u001b[32m\"Cool down and stretch for 5-10 minutes after each workout session.\"\u001b[0m\n",
       "    \u001b[1m}\u001b[0m,\n",
       "    \u001b[1m{\u001b[0m\n",
       "      \u001b[32m\"content\"\u001b[0m: \u001b[32m\"Progress at your own pace and listen to your body.\"\u001b[0m\n",
       "    \u001b[1m}\u001b[0m,\n",
       "    \u001b[1m{\u001b[0m\n",
       "      \u001b[32m\"content\"\u001b[0m: \u001b[32m\"Maintain proper form and technique during exercises to avoid injuries.\"\u001b[0m\n",
       "    \u001b[1m}\u001b[0m,\n",
       "    \u001b[1m{\u001b[0m\n",
       "      \u001b[32m\"content\"\u001b[0m: \u001b[32m\"Stay consistent with your workouts and nutrition for optimal results.\"\u001b[0m\n",
       "    \u001b[1m}\u001b[0m\n",
       "  \u001b[1m]\u001b[0m\n",
       "\u001b[1m}\u001b[0m\n"
      ]
     },
     "metadata": {},
     "output_type": "display_data"
    }
   ],
   "source": [
    "print(response.content)"
   ]
  },
  {
   "cell_type": "code",
   "execution_count": 18,
   "metadata": {},
   "outputs": [
    {
     "data": {
      "text/html": [
       "<pre style=\"white-space:pre;overflow-x:auto;line-height:normal;font-family:Menlo,'DejaVu Sans Mono',consolas,'Courier New',monospace\"><span style=\"color: #808000; text-decoration-color: #808000\">weeks</span>=<span style=\"font-weight: bold\">[</span><span style=\"color: #800080; text-decoration-color: #800080; font-weight: bold\">Week</span><span style=\"font-weight: bold\">(</span><span style=\"color: #808000; text-decoration-color: #808000\">week_range</span>=<span style=\"color: #008000; text-decoration-color: #008000\">'Week 1-4'</span>, <span style=\"color: #808000; text-decoration-color: #808000\">days</span>=<span style=\"font-weight: bold\">[</span><span style=\"color: #800080; text-decoration-color: #800080; font-weight: bold\">Day</span><span style=\"font-weight: bold\">(</span><span style=\"color: #808000; text-decoration-color: #808000\">day_number</span>=<span style=\"color: #008080; text-decoration-color: #008080; font-weight: bold\">1</span>, <span style=\"color: #808000; text-decoration-color: #808000\">focus</span>=<span style=\"color: #008000; text-decoration-color: #008000\">'Upper Body'</span>, <span style=\"color: #808000; text-decoration-color: #808000\">exercises</span>=<span style=\"font-weight: bold\">[</span><span style=\"color: #800080; text-decoration-color: #800080; font-weight: bold\">Exercise</span><span style=\"font-weight: bold\">(</span><span style=\"color: #808000; text-decoration-color: #808000\">name</span>=<span style=\"color: #008000; text-decoration-color: #008000\">'Bench </span>\n",
       "<span style=\"color: #008000; text-decoration-color: #008000\">Press'</span>, <span style=\"color: #808000; text-decoration-color: #808000\">exercise_type</span>=<span style=\"color: #008000; text-decoration-color: #008000\">'Strength'</span>, <span style=\"color: #808000; text-decoration-color: #808000\">sets</span>=<span style=\"color: #008080; text-decoration-color: #008080; font-weight: bold\">3</span>, <span style=\"color: #808000; text-decoration-color: #808000\">reps</span>=<span style=\"color: #008080; text-decoration-color: #008080; font-weight: bold\">10</span>, <span style=\"color: #808000; text-decoration-color: #808000\">duration</span>=<span style=\"color: #800080; text-decoration-color: #800080; font-style: italic\">None</span><span style=\"font-weight: bold\">)</span>, <span style=\"color: #800080; text-decoration-color: #800080; font-weight: bold\">Exercise</span><span style=\"font-weight: bold\">(</span><span style=\"color: #808000; text-decoration-color: #808000\">name</span>=<span style=\"color: #008000; text-decoration-color: #008000\">'Pull-ups'</span>, \n",
       "<span style=\"color: #808000; text-decoration-color: #808000\">exercise_type</span>=<span style=\"color: #008000; text-decoration-color: #008000\">'Strength'</span>, <span style=\"color: #808000; text-decoration-color: #808000\">sets</span>=<span style=\"color: #008080; text-decoration-color: #008080; font-weight: bold\">3</span>, <span style=\"color: #808000; text-decoration-color: #808000\">reps</span>=<span style=\"color: #008080; text-decoration-color: #008080; font-weight: bold\">8</span>, <span style=\"color: #808000; text-decoration-color: #808000\">duration</span>=<span style=\"color: #800080; text-decoration-color: #800080; font-style: italic\">None</span><span style=\"font-weight: bold\">)</span>, <span style=\"color: #800080; text-decoration-color: #800080; font-weight: bold\">Exercise</span><span style=\"font-weight: bold\">(</span><span style=\"color: #808000; text-decoration-color: #808000\">name</span>=<span style=\"color: #008000; text-decoration-color: #008000\">'Dumbbell Shoulder Press'</span>, \n",
       "<span style=\"color: #808000; text-decoration-color: #808000\">exercise_type</span>=<span style=\"color: #008000; text-decoration-color: #008000\">'Strength'</span>, <span style=\"color: #808000; text-decoration-color: #808000\">sets</span>=<span style=\"color: #008080; text-decoration-color: #008080; font-weight: bold\">3</span>, <span style=\"color: #808000; text-decoration-color: #808000\">reps</span>=<span style=\"color: #008080; text-decoration-color: #008080; font-weight: bold\">10</span>, <span style=\"color: #808000; text-decoration-color: #808000\">duration</span>=<span style=\"color: #800080; text-decoration-color: #800080; font-style: italic\">None</span><span style=\"font-weight: bold\">)</span>, <span style=\"color: #800080; text-decoration-color: #800080; font-weight: bold\">Exercise</span><span style=\"font-weight: bold\">(</span><span style=\"color: #808000; text-decoration-color: #808000\">name</span>=<span style=\"color: #008000; text-decoration-color: #008000\">'Tricep Dips'</span>, <span style=\"color: #808000; text-decoration-color: #808000\">exercise_type</span>=<span style=\"color: #008000; text-decoration-color: #008000\">'Strength'</span>, \n",
       "<span style=\"color: #808000; text-decoration-color: #808000\">sets</span>=<span style=\"color: #008080; text-decoration-color: #008080; font-weight: bold\">3</span>, <span style=\"color: #808000; text-decoration-color: #808000\">reps</span>=<span style=\"color: #008080; text-decoration-color: #008080; font-weight: bold\">12</span>, <span style=\"color: #808000; text-decoration-color: #808000\">duration</span>=<span style=\"color: #800080; text-decoration-color: #800080; font-style: italic\">None</span><span style=\"font-weight: bold\">)</span>, <span style=\"color: #800080; text-decoration-color: #800080; font-weight: bold\">Exercise</span><span style=\"font-weight: bold\">(</span><span style=\"color: #808000; text-decoration-color: #808000\">name</span>=<span style=\"color: #008000; text-decoration-color: #008000\">'Bicep Curls'</span>, <span style=\"color: #808000; text-decoration-color: #808000\">exercise_type</span>=<span style=\"color: #008000; text-decoration-color: #008000\">'Strength'</span>, <span style=\"color: #808000; text-decoration-color: #808000\">sets</span>=<span style=\"color: #008080; text-decoration-color: #008080; font-weight: bold\">3</span>, <span style=\"color: #808000; text-decoration-color: #808000\">reps</span>=<span style=\"color: #008080; text-decoration-color: #008080; font-weight: bold\">12</span>, \n",
       "<span style=\"color: #808000; text-decoration-color: #808000\">duration</span>=<span style=\"color: #800080; text-decoration-color: #800080; font-style: italic\">None</span><span style=\"font-weight: bold\">)])</span>, <span style=\"color: #800080; text-decoration-color: #800080; font-weight: bold\">Day</span><span style=\"font-weight: bold\">(</span><span style=\"color: #808000; text-decoration-color: #808000\">day_number</span>=<span style=\"color: #008080; text-decoration-color: #008080; font-weight: bold\">2</span>, <span style=\"color: #808000; text-decoration-color: #808000\">focus</span>=<span style=\"color: #008000; text-decoration-color: #008000\">'Cardio'</span>, <span style=\"color: #808000; text-decoration-color: #808000\">exercises</span>=<span style=\"font-weight: bold\">[</span><span style=\"color: #800080; text-decoration-color: #800080; font-weight: bold\">Exercise</span><span style=\"font-weight: bold\">(</span><span style=\"color: #808000; text-decoration-color: #808000\">name</span>=<span style=\"color: #008000; text-decoration-color: #008000\">'Treadmill'</span>, <span style=\"color: #808000; text-decoration-color: #808000\">exercise_type</span>=<span style=\"color: #008000; text-decoration-color: #008000\">'Cardio'</span>, \n",
       "<span style=\"color: #808000; text-decoration-color: #808000\">sets</span>=<span style=\"color: #800080; text-decoration-color: #800080; font-style: italic\">None</span>, <span style=\"color: #808000; text-decoration-color: #808000\">reps</span>=<span style=\"color: #800080; text-decoration-color: #800080; font-style: italic\">None</span>, <span style=\"color: #808000; text-decoration-color: #808000\">duration</span>=<span style=\"color: #800080; text-decoration-color: #800080; font-weight: bold\">Duration</span><span style=\"font-weight: bold\">(</span><span style=\"color: #808000; text-decoration-color: #808000\">value</span>=<span style=\"color: #008080; text-decoration-color: #008080; font-weight: bold\">30</span>, <span style=\"color: #808000; text-decoration-color: #808000\">unit</span>=<span style=\"color: #008000; text-decoration-color: #008000\">'minutes'</span><span style=\"font-weight: bold\">))])</span>, <span style=\"color: #800080; text-decoration-color: #800080; font-weight: bold\">Day</span><span style=\"font-weight: bold\">(</span><span style=\"color: #808000; text-decoration-color: #808000\">day_number</span>=<span style=\"color: #008080; text-decoration-color: #008080; font-weight: bold\">3</span>, <span style=\"color: #808000; text-decoration-color: #808000\">focus</span>=<span style=\"color: #008000; text-decoration-color: #008000\">'Rest'</span>, \n",
       "<span style=\"color: #808000; text-decoration-color: #808000\">exercises</span>=<span style=\"font-weight: bold\">[])</span>, <span style=\"color: #800080; text-decoration-color: #800080; font-weight: bold\">Day</span><span style=\"font-weight: bold\">(</span><span style=\"color: #808000; text-decoration-color: #808000\">day_number</span>=<span style=\"color: #008080; text-decoration-color: #008080; font-weight: bold\">4</span>, <span style=\"color: #808000; text-decoration-color: #808000\">focus</span>=<span style=\"color: #008000; text-decoration-color: #008000\">'Core'</span>, <span style=\"color: #808000; text-decoration-color: #808000\">exercises</span>=<span style=\"font-weight: bold\">[</span><span style=\"color: #800080; text-decoration-color: #800080; font-weight: bold\">Exercise</span><span style=\"font-weight: bold\">(</span><span style=\"color: #808000; text-decoration-color: #808000\">name</span>=<span style=\"color: #008000; text-decoration-color: #008000\">'Plank'</span>, <span style=\"color: #808000; text-decoration-color: #808000\">exercise_type</span>=<span style=\"color: #008000; text-decoration-color: #008000\">'Strength'</span>, <span style=\"color: #808000; text-decoration-color: #808000\">sets</span>=<span style=\"color: #008080; text-decoration-color: #008080; font-weight: bold\">3</span>, \n",
       "<span style=\"color: #808000; text-decoration-color: #808000\">reps</span>=<span style=\"color: #800080; text-decoration-color: #800080; font-style: italic\">None</span>, <span style=\"color: #808000; text-decoration-color: #808000\">duration</span>=<span style=\"color: #800080; text-decoration-color: #800080; font-weight: bold\">Duration</span><span style=\"font-weight: bold\">(</span><span style=\"color: #808000; text-decoration-color: #808000\">value</span>=<span style=\"color: #008080; text-decoration-color: #008080; font-weight: bold\">60</span>, <span style=\"color: #808000; text-decoration-color: #808000\">unit</span>=<span style=\"color: #008000; text-decoration-color: #008000\">'seconds'</span><span style=\"font-weight: bold\">))</span>, <span style=\"color: #800080; text-decoration-color: #800080; font-weight: bold\">Exercise</span><span style=\"font-weight: bold\">(</span><span style=\"color: #808000; text-decoration-color: #808000\">name</span>=<span style=\"color: #008000; text-decoration-color: #008000\">'Russian Twists'</span>, <span style=\"color: #808000; text-decoration-color: #808000\">exercise_type</span>=<span style=\"color: #008000; text-decoration-color: #008000\">'Strength'</span>, \n",
       "<span style=\"color: #808000; text-decoration-color: #808000\">sets</span>=<span style=\"color: #008080; text-decoration-color: #008080; font-weight: bold\">3</span>, <span style=\"color: #808000; text-decoration-color: #808000\">reps</span>=<span style=\"color: #008080; text-decoration-color: #008080; font-weight: bold\">15</span>, <span style=\"color: #808000; text-decoration-color: #808000\">duration</span>=<span style=\"color: #800080; text-decoration-color: #800080; font-style: italic\">None</span><span style=\"font-weight: bold\">)</span>, <span style=\"color: #800080; text-decoration-color: #800080; font-weight: bold\">Exercise</span><span style=\"font-weight: bold\">(</span><span style=\"color: #808000; text-decoration-color: #808000\">name</span>=<span style=\"color: #008000; text-decoration-color: #008000\">'Leg Raises'</span>, <span style=\"color: #808000; text-decoration-color: #808000\">exercise_type</span>=<span style=\"color: #008000; text-decoration-color: #008000\">'Strength'</span>, <span style=\"color: #808000; text-decoration-color: #808000\">sets</span>=<span style=\"color: #008080; text-decoration-color: #008080; font-weight: bold\">3</span>, <span style=\"color: #808000; text-decoration-color: #808000\">reps</span>=<span style=\"color: #008080; text-decoration-color: #008080; font-weight: bold\">12</span>, \n",
       "<span style=\"color: #808000; text-decoration-color: #808000\">duration</span>=<span style=\"color: #800080; text-decoration-color: #800080; font-style: italic\">None</span><span style=\"font-weight: bold\">)</span>, <span style=\"color: #800080; text-decoration-color: #800080; font-weight: bold\">Exercise</span><span style=\"font-weight: bold\">(</span><span style=\"color: #808000; text-decoration-color: #808000\">name</span>=<span style=\"color: #008000; text-decoration-color: #008000\">'Bicycle Crunches'</span>, <span style=\"color: #808000; text-decoration-color: #808000\">exercise_type</span>=<span style=\"color: #008000; text-decoration-color: #008000\">'Strength'</span>, <span style=\"color: #808000; text-decoration-color: #808000\">sets</span>=<span style=\"color: #008080; text-decoration-color: #008080; font-weight: bold\">3</span>, <span style=\"color: #808000; text-decoration-color: #808000\">reps</span>=<span style=\"color: #008080; text-decoration-color: #008080; font-weight: bold\">15</span>, <span style=\"color: #808000; text-decoration-color: #808000\">duration</span>=<span style=\"color: #800080; text-decoration-color: #800080; font-style: italic\">None</span><span style=\"font-weight: bold\">)])])</span>, \n",
       "<span style=\"color: #800080; text-decoration-color: #800080; font-weight: bold\">Week</span><span style=\"font-weight: bold\">(</span><span style=\"color: #808000; text-decoration-color: #808000\">week_range</span>=<span style=\"color: #008000; text-decoration-color: #008000\">'Week 5-8'</span>, <span style=\"color: #808000; text-decoration-color: #808000\">days</span>=<span style=\"font-weight: bold\">[</span><span style=\"color: #800080; text-decoration-color: #800080; font-weight: bold\">Day</span><span style=\"font-weight: bold\">(</span><span style=\"color: #808000; text-decoration-color: #808000\">day_number</span>=<span style=\"color: #008080; text-decoration-color: #008080; font-weight: bold\">1</span>, <span style=\"color: #808000; text-decoration-color: #808000\">focus</span>=<span style=\"color: #008000; text-decoration-color: #008000\">'Upper Body'</span>, <span style=\"color: #808000; text-decoration-color: #808000\">exercises</span>=<span style=\"font-weight: bold\">[</span><span style=\"color: #800080; text-decoration-color: #800080; font-weight: bold\">Exercise</span><span style=\"font-weight: bold\">(</span><span style=\"color: #808000; text-decoration-color: #808000\">name</span>=<span style=\"color: #008000; text-decoration-color: #008000\">'Bench Press'</span>, \n",
       "<span style=\"color: #808000; text-decoration-color: #808000\">exercise_type</span>=<span style=\"color: #008000; text-decoration-color: #008000\">'Strength'</span>, <span style=\"color: #808000; text-decoration-color: #808000\">sets</span>=<span style=\"color: #008080; text-decoration-color: #008080; font-weight: bold\">4</span>, <span style=\"color: #808000; text-decoration-color: #808000\">reps</span>=<span style=\"color: #008080; text-decoration-color: #008080; font-weight: bold\">10</span>, <span style=\"color: #808000; text-decoration-color: #808000\">duration</span>=<span style=\"color: #800080; text-decoration-color: #800080; font-style: italic\">None</span><span style=\"font-weight: bold\">)</span>, <span style=\"color: #800080; text-decoration-color: #800080; font-weight: bold\">Exercise</span><span style=\"font-weight: bold\">(</span><span style=\"color: #808000; text-decoration-color: #808000\">name</span>=<span style=\"color: #008000; text-decoration-color: #008000\">'Pull-ups'</span>, <span style=\"color: #808000; text-decoration-color: #808000\">exercise_type</span>=<span style=\"color: #008000; text-decoration-color: #008000\">'Strength'</span>, \n",
       "<span style=\"color: #808000; text-decoration-color: #808000\">sets</span>=<span style=\"color: #008080; text-decoration-color: #008080; font-weight: bold\">4</span>, <span style=\"color: #808000; text-decoration-color: #808000\">reps</span>=<span style=\"color: #008080; text-decoration-color: #008080; font-weight: bold\">8</span>, <span style=\"color: #808000; text-decoration-color: #808000\">duration</span>=<span style=\"color: #800080; text-decoration-color: #800080; font-style: italic\">None</span><span style=\"font-weight: bold\">)</span>, <span style=\"color: #800080; text-decoration-color: #800080; font-weight: bold\">Exercise</span><span style=\"font-weight: bold\">(</span><span style=\"color: #808000; text-decoration-color: #808000\">name</span>=<span style=\"color: #008000; text-decoration-color: #008000\">'Dumbbell Shoulder Press'</span>, <span style=\"color: #808000; text-decoration-color: #808000\">exercise_type</span>=<span style=\"color: #008000; text-decoration-color: #008000\">'Strength'</span>, <span style=\"color: #808000; text-decoration-color: #808000\">sets</span>=<span style=\"color: #008080; text-decoration-color: #008080; font-weight: bold\">4</span>, <span style=\"color: #808000; text-decoration-color: #808000\">reps</span>=<span style=\"color: #008080; text-decoration-color: #008080; font-weight: bold\">10</span>,\n",
       "<span style=\"color: #808000; text-decoration-color: #808000\">duration</span>=<span style=\"color: #800080; text-decoration-color: #800080; font-style: italic\">None</span><span style=\"font-weight: bold\">)</span>, <span style=\"color: #800080; text-decoration-color: #800080; font-weight: bold\">Exercise</span><span style=\"font-weight: bold\">(</span><span style=\"color: #808000; text-decoration-color: #808000\">name</span>=<span style=\"color: #008000; text-decoration-color: #008000\">'Tricep Dips'</span>, <span style=\"color: #808000; text-decoration-color: #808000\">exercise_type</span>=<span style=\"color: #008000; text-decoration-color: #008000\">'Strength'</span>, <span style=\"color: #808000; text-decoration-color: #808000\">sets</span>=<span style=\"color: #008080; text-decoration-color: #008080; font-weight: bold\">4</span>, <span style=\"color: #808000; text-decoration-color: #808000\">reps</span>=<span style=\"color: #008080; text-decoration-color: #008080; font-weight: bold\">12</span>, <span style=\"color: #808000; text-decoration-color: #808000\">duration</span>=<span style=\"color: #800080; text-decoration-color: #800080; font-style: italic\">None</span><span style=\"font-weight: bold\">)</span>, \n",
       "<span style=\"color: #800080; text-decoration-color: #800080; font-weight: bold\">Exercise</span><span style=\"font-weight: bold\">(</span><span style=\"color: #808000; text-decoration-color: #808000\">name</span>=<span style=\"color: #008000; text-decoration-color: #008000\">'Bicep Curls'</span>, <span style=\"color: #808000; text-decoration-color: #808000\">exercise_type</span>=<span style=\"color: #008000; text-decoration-color: #008000\">'Strength'</span>, <span style=\"color: #808000; text-decoration-color: #808000\">sets</span>=<span style=\"color: #008080; text-decoration-color: #008080; font-weight: bold\">4</span>, <span style=\"color: #808000; text-decoration-color: #808000\">reps</span>=<span style=\"color: #008080; text-decoration-color: #008080; font-weight: bold\">12</span>, <span style=\"color: #808000; text-decoration-color: #808000\">duration</span>=<span style=\"color: #800080; text-decoration-color: #800080; font-style: italic\">None</span><span style=\"font-weight: bold\">)])</span>, <span style=\"color: #800080; text-decoration-color: #800080; font-weight: bold\">Day</span><span style=\"font-weight: bold\">(</span><span style=\"color: #808000; text-decoration-color: #808000\">day_number</span>=<span style=\"color: #008080; text-decoration-color: #008080; font-weight: bold\">2</span>, \n",
       "<span style=\"color: #808000; text-decoration-color: #808000\">focus</span>=<span style=\"color: #008000; text-decoration-color: #008000\">'Cardio'</span>, <span style=\"color: #808000; text-decoration-color: #808000\">exercises</span>=<span style=\"font-weight: bold\">[</span><span style=\"color: #800080; text-decoration-color: #800080; font-weight: bold\">Exercise</span><span style=\"font-weight: bold\">(</span><span style=\"color: #808000; text-decoration-color: #808000\">name</span>=<span style=\"color: #008000; text-decoration-color: #008000\">'Treadmill'</span>, <span style=\"color: #808000; text-decoration-color: #808000\">exercise_type</span>=<span style=\"color: #008000; text-decoration-color: #008000\">'Cardio'</span>, <span style=\"color: #808000; text-decoration-color: #808000\">sets</span>=<span style=\"color: #800080; text-decoration-color: #800080; font-style: italic\">None</span>, <span style=\"color: #808000; text-decoration-color: #808000\">reps</span>=<span style=\"color: #800080; text-decoration-color: #800080; font-style: italic\">None</span>, \n",
       "<span style=\"color: #808000; text-decoration-color: #808000\">duration</span>=<span style=\"color: #800080; text-decoration-color: #800080; font-weight: bold\">Duration</span><span style=\"font-weight: bold\">(</span><span style=\"color: #808000; text-decoration-color: #808000\">value</span>=<span style=\"color: #008080; text-decoration-color: #008080; font-weight: bold\">40</span>, <span style=\"color: #808000; text-decoration-color: #808000\">unit</span>=<span style=\"color: #008000; text-decoration-color: #008000\">'minutes'</span><span style=\"font-weight: bold\">))])</span>, <span style=\"color: #800080; text-decoration-color: #800080; font-weight: bold\">Day</span><span style=\"font-weight: bold\">(</span><span style=\"color: #808000; text-decoration-color: #808000\">day_number</span>=<span style=\"color: #008080; text-decoration-color: #008080; font-weight: bold\">3</span>, <span style=\"color: #808000; text-decoration-color: #808000\">focus</span>=<span style=\"color: #008000; text-decoration-color: #008000\">'Rest'</span>, <span style=\"color: #808000; text-decoration-color: #808000\">exercises</span>=<span style=\"font-weight: bold\">[])</span>, <span style=\"color: #800080; text-decoration-color: #800080; font-weight: bold\">Day</span><span style=\"font-weight: bold\">(</span><span style=\"color: #808000; text-decoration-color: #808000\">day_number</span>=<span style=\"color: #008080; text-decoration-color: #008080; font-weight: bold\">4</span>, \n",
       "<span style=\"color: #808000; text-decoration-color: #808000\">focus</span>=<span style=\"color: #008000; text-decoration-color: #008000\">'Core'</span>, <span style=\"color: #808000; text-decoration-color: #808000\">exercises</span>=<span style=\"font-weight: bold\">[</span><span style=\"color: #800080; text-decoration-color: #800080; font-weight: bold\">Exercise</span><span style=\"font-weight: bold\">(</span><span style=\"color: #808000; text-decoration-color: #808000\">name</span>=<span style=\"color: #008000; text-decoration-color: #008000\">'Plank'</span>, <span style=\"color: #808000; text-decoration-color: #808000\">exercise_type</span>=<span style=\"color: #008000; text-decoration-color: #008000\">'Strength'</span>, <span style=\"color: #808000; text-decoration-color: #808000\">sets</span>=<span style=\"color: #008080; text-decoration-color: #008080; font-weight: bold\">4</span>, <span style=\"color: #808000; text-decoration-color: #808000\">reps</span>=<span style=\"color: #800080; text-decoration-color: #800080; font-style: italic\">None</span>, \n",
       "<span style=\"color: #808000; text-decoration-color: #808000\">duration</span>=<span style=\"color: #800080; text-decoration-color: #800080; font-weight: bold\">Duration</span><span style=\"font-weight: bold\">(</span><span style=\"color: #808000; text-decoration-color: #808000\">value</span>=<span style=\"color: #008080; text-decoration-color: #008080; font-weight: bold\">60</span>, <span style=\"color: #808000; text-decoration-color: #808000\">unit</span>=<span style=\"color: #008000; text-decoration-color: #008000\">'seconds'</span><span style=\"font-weight: bold\">))</span>, <span style=\"color: #800080; text-decoration-color: #800080; font-weight: bold\">Exercise</span><span style=\"font-weight: bold\">(</span><span style=\"color: #808000; text-decoration-color: #808000\">name</span>=<span style=\"color: #008000; text-decoration-color: #008000\">'Russian Twists'</span>, <span style=\"color: #808000; text-decoration-color: #808000\">exercise_type</span>=<span style=\"color: #008000; text-decoration-color: #008000\">'Strength'</span>, <span style=\"color: #808000; text-decoration-color: #808000\">sets</span>=<span style=\"color: #008080; text-decoration-color: #008080; font-weight: bold\">4</span>, \n",
       "<span style=\"color: #808000; text-decoration-color: #808000\">reps</span>=<span style=\"color: #008080; text-decoration-color: #008080; font-weight: bold\">15</span>, <span style=\"color: #808000; text-decoration-color: #808000\">duration</span>=<span style=\"color: #800080; text-decoration-color: #800080; font-style: italic\">None</span><span style=\"font-weight: bold\">)</span>, <span style=\"color: #800080; text-decoration-color: #800080; font-weight: bold\">Exercise</span><span style=\"font-weight: bold\">(</span><span style=\"color: #808000; text-decoration-color: #808000\">name</span>=<span style=\"color: #008000; text-decoration-color: #008000\">'Leg Raises'</span>, <span style=\"color: #808000; text-decoration-color: #808000\">exercise_type</span>=<span style=\"color: #008000; text-decoration-color: #008000\">'Strength'</span>, <span style=\"color: #808000; text-decoration-color: #808000\">sets</span>=<span style=\"color: #008080; text-decoration-color: #008080; font-weight: bold\">4</span>, <span style=\"color: #808000; text-decoration-color: #808000\">reps</span>=<span style=\"color: #008080; text-decoration-color: #008080; font-weight: bold\">12</span>, <span style=\"color: #808000; text-decoration-color: #808000\">duration</span>=<span style=\"color: #800080; text-decoration-color: #800080; font-style: italic\">None</span><span style=\"font-weight: bold\">)</span>, \n",
       "<span style=\"color: #800080; text-decoration-color: #800080; font-weight: bold\">Exercise</span><span style=\"font-weight: bold\">(</span><span style=\"color: #808000; text-decoration-color: #808000\">name</span>=<span style=\"color: #008000; text-decoration-color: #008000\">'Bicycle Crunches'</span>, <span style=\"color: #808000; text-decoration-color: #808000\">exercise_type</span>=<span style=\"color: #008000; text-decoration-color: #008000\">'Strength'</span>, <span style=\"color: #808000; text-decoration-color: #808000\">sets</span>=<span style=\"color: #008080; text-decoration-color: #008080; font-weight: bold\">4</span>, <span style=\"color: #808000; text-decoration-color: #808000\">reps</span>=<span style=\"color: #008080; text-decoration-color: #008080; font-weight: bold\">15</span>, <span style=\"color: #808000; text-decoration-color: #808000\">duration</span>=<span style=\"color: #800080; text-decoration-color: #800080; font-style: italic\">None</span><span style=\"font-weight: bold\">)])])]</span> \n",
       "<span style=\"color: #808000; text-decoration-color: #808000\">notes</span>=<span style=\"font-weight: bold\">[</span><span style=\"color: #800080; text-decoration-color: #800080; font-weight: bold\">Note</span><span style=\"font-weight: bold\">(</span><span style=\"color: #808000; text-decoration-color: #808000\">content</span>=<span style=\"color: #008000; text-decoration-color: #008000\">'Remember to warm up for 5-10 minutes before each workout session.'</span><span style=\"font-weight: bold\">)</span>, <span style=\"color: #800080; text-decoration-color: #800080; font-weight: bold\">Note</span><span style=\"font-weight: bold\">(</span><span style=\"color: #808000; text-decoration-color: #808000\">content</span>=<span style=\"color: #008000; text-decoration-color: #008000\">'Cool down </span>\n",
       "<span style=\"color: #008000; text-decoration-color: #008000\">and stretch for 5-10 minutes after each workout session.'</span><span style=\"font-weight: bold\">)</span>, <span style=\"color: #800080; text-decoration-color: #800080; font-weight: bold\">Note</span><span style=\"font-weight: bold\">(</span><span style=\"color: #808000; text-decoration-color: #808000\">content</span>=<span style=\"color: #008000; text-decoration-color: #008000\">'Progress at your own pace and listen to </span>\n",
       "<span style=\"color: #008000; text-decoration-color: #008000\">your body.'</span><span style=\"font-weight: bold\">)</span>, <span style=\"color: #800080; text-decoration-color: #800080; font-weight: bold\">Note</span><span style=\"font-weight: bold\">(</span><span style=\"color: #808000; text-decoration-color: #808000\">content</span>=<span style=\"color: #008000; text-decoration-color: #008000\">'Maintain proper form and technique during exercises to avoid injuries.'</span><span style=\"font-weight: bold\">)</span>, \n",
       "<span style=\"color: #800080; text-decoration-color: #800080; font-weight: bold\">Note</span><span style=\"font-weight: bold\">(</span><span style=\"color: #808000; text-decoration-color: #808000\">content</span>=<span style=\"color: #008000; text-decoration-color: #008000\">'Stay consistent with your workouts and nutrition for optimal results.'</span><span style=\"font-weight: bold\">)]</span>\n",
       "</pre>\n"
      ],
      "text/plain": [
       "\u001b[33mweeks\u001b[0m=\u001b[1m[\u001b[0m\u001b[1;35mWeek\u001b[0m\u001b[1m(\u001b[0m\u001b[33mweek_range\u001b[0m=\u001b[32m'Week 1-4'\u001b[0m, \u001b[33mdays\u001b[0m=\u001b[1m[\u001b[0m\u001b[1;35mDay\u001b[0m\u001b[1m(\u001b[0m\u001b[33mday_number\u001b[0m=\u001b[1;36m1\u001b[0m, \u001b[33mfocus\u001b[0m=\u001b[32m'Upper Body'\u001b[0m, \u001b[33mexercises\u001b[0m=\u001b[1m[\u001b[0m\u001b[1;35mExercise\u001b[0m\u001b[1m(\u001b[0m\u001b[33mname\u001b[0m=\u001b[32m'Bench \u001b[0m\n",
       "\u001b[32mPress'\u001b[0m, \u001b[33mexercise_type\u001b[0m=\u001b[32m'Strength'\u001b[0m, \u001b[33msets\u001b[0m=\u001b[1;36m3\u001b[0m, \u001b[33mreps\u001b[0m=\u001b[1;36m10\u001b[0m, \u001b[33mduration\u001b[0m=\u001b[3;35mNone\u001b[0m\u001b[1m)\u001b[0m, \u001b[1;35mExercise\u001b[0m\u001b[1m(\u001b[0m\u001b[33mname\u001b[0m=\u001b[32m'Pull-ups'\u001b[0m, \n",
       "\u001b[33mexercise_type\u001b[0m=\u001b[32m'Strength'\u001b[0m, \u001b[33msets\u001b[0m=\u001b[1;36m3\u001b[0m, \u001b[33mreps\u001b[0m=\u001b[1;36m8\u001b[0m, \u001b[33mduration\u001b[0m=\u001b[3;35mNone\u001b[0m\u001b[1m)\u001b[0m, \u001b[1;35mExercise\u001b[0m\u001b[1m(\u001b[0m\u001b[33mname\u001b[0m=\u001b[32m'Dumbbell Shoulder Press'\u001b[0m, \n",
       "\u001b[33mexercise_type\u001b[0m=\u001b[32m'Strength'\u001b[0m, \u001b[33msets\u001b[0m=\u001b[1;36m3\u001b[0m, \u001b[33mreps\u001b[0m=\u001b[1;36m10\u001b[0m, \u001b[33mduration\u001b[0m=\u001b[3;35mNone\u001b[0m\u001b[1m)\u001b[0m, \u001b[1;35mExercise\u001b[0m\u001b[1m(\u001b[0m\u001b[33mname\u001b[0m=\u001b[32m'Tricep Dips'\u001b[0m, \u001b[33mexercise_type\u001b[0m=\u001b[32m'Strength'\u001b[0m, \n",
       "\u001b[33msets\u001b[0m=\u001b[1;36m3\u001b[0m, \u001b[33mreps\u001b[0m=\u001b[1;36m12\u001b[0m, \u001b[33mduration\u001b[0m=\u001b[3;35mNone\u001b[0m\u001b[1m)\u001b[0m, \u001b[1;35mExercise\u001b[0m\u001b[1m(\u001b[0m\u001b[33mname\u001b[0m=\u001b[32m'Bicep Curls'\u001b[0m, \u001b[33mexercise_type\u001b[0m=\u001b[32m'Strength'\u001b[0m, \u001b[33msets\u001b[0m=\u001b[1;36m3\u001b[0m, \u001b[33mreps\u001b[0m=\u001b[1;36m12\u001b[0m, \n",
       "\u001b[33mduration\u001b[0m=\u001b[3;35mNone\u001b[0m\u001b[1m)\u001b[0m\u001b[1m]\u001b[0m\u001b[1m)\u001b[0m, \u001b[1;35mDay\u001b[0m\u001b[1m(\u001b[0m\u001b[33mday_number\u001b[0m=\u001b[1;36m2\u001b[0m, \u001b[33mfocus\u001b[0m=\u001b[32m'Cardio'\u001b[0m, \u001b[33mexercises\u001b[0m=\u001b[1m[\u001b[0m\u001b[1;35mExercise\u001b[0m\u001b[1m(\u001b[0m\u001b[33mname\u001b[0m=\u001b[32m'Treadmill'\u001b[0m, \u001b[33mexercise_type\u001b[0m=\u001b[32m'Cardio'\u001b[0m, \n",
       "\u001b[33msets\u001b[0m=\u001b[3;35mNone\u001b[0m, \u001b[33mreps\u001b[0m=\u001b[3;35mNone\u001b[0m, \u001b[33mduration\u001b[0m=\u001b[1;35mDuration\u001b[0m\u001b[1m(\u001b[0m\u001b[33mvalue\u001b[0m=\u001b[1;36m30\u001b[0m, \u001b[33munit\u001b[0m=\u001b[32m'minutes'\u001b[0m\u001b[1m)\u001b[0m\u001b[1m)\u001b[0m\u001b[1m]\u001b[0m\u001b[1m)\u001b[0m, \u001b[1;35mDay\u001b[0m\u001b[1m(\u001b[0m\u001b[33mday_number\u001b[0m=\u001b[1;36m3\u001b[0m, \u001b[33mfocus\u001b[0m=\u001b[32m'Rest'\u001b[0m, \n",
       "\u001b[33mexercises\u001b[0m=\u001b[1m[\u001b[0m\u001b[1m]\u001b[0m\u001b[1m)\u001b[0m, \u001b[1;35mDay\u001b[0m\u001b[1m(\u001b[0m\u001b[33mday_number\u001b[0m=\u001b[1;36m4\u001b[0m, \u001b[33mfocus\u001b[0m=\u001b[32m'Core'\u001b[0m, \u001b[33mexercises\u001b[0m=\u001b[1m[\u001b[0m\u001b[1;35mExercise\u001b[0m\u001b[1m(\u001b[0m\u001b[33mname\u001b[0m=\u001b[32m'Plank'\u001b[0m, \u001b[33mexercise_type\u001b[0m=\u001b[32m'Strength'\u001b[0m, \u001b[33msets\u001b[0m=\u001b[1;36m3\u001b[0m, \n",
       "\u001b[33mreps\u001b[0m=\u001b[3;35mNone\u001b[0m, \u001b[33mduration\u001b[0m=\u001b[1;35mDuration\u001b[0m\u001b[1m(\u001b[0m\u001b[33mvalue\u001b[0m=\u001b[1;36m60\u001b[0m, \u001b[33munit\u001b[0m=\u001b[32m'seconds'\u001b[0m\u001b[1m)\u001b[0m\u001b[1m)\u001b[0m, \u001b[1;35mExercise\u001b[0m\u001b[1m(\u001b[0m\u001b[33mname\u001b[0m=\u001b[32m'Russian Twists'\u001b[0m, \u001b[33mexercise_type\u001b[0m=\u001b[32m'Strength'\u001b[0m, \n",
       "\u001b[33msets\u001b[0m=\u001b[1;36m3\u001b[0m, \u001b[33mreps\u001b[0m=\u001b[1;36m15\u001b[0m, \u001b[33mduration\u001b[0m=\u001b[3;35mNone\u001b[0m\u001b[1m)\u001b[0m, \u001b[1;35mExercise\u001b[0m\u001b[1m(\u001b[0m\u001b[33mname\u001b[0m=\u001b[32m'Leg Raises'\u001b[0m, \u001b[33mexercise_type\u001b[0m=\u001b[32m'Strength'\u001b[0m, \u001b[33msets\u001b[0m=\u001b[1;36m3\u001b[0m, \u001b[33mreps\u001b[0m=\u001b[1;36m12\u001b[0m, \n",
       "\u001b[33mduration\u001b[0m=\u001b[3;35mNone\u001b[0m\u001b[1m)\u001b[0m, \u001b[1;35mExercise\u001b[0m\u001b[1m(\u001b[0m\u001b[33mname\u001b[0m=\u001b[32m'Bicycle Crunches'\u001b[0m, \u001b[33mexercise_type\u001b[0m=\u001b[32m'Strength'\u001b[0m, \u001b[33msets\u001b[0m=\u001b[1;36m3\u001b[0m, \u001b[33mreps\u001b[0m=\u001b[1;36m15\u001b[0m, \u001b[33mduration\u001b[0m=\u001b[3;35mNone\u001b[0m\u001b[1m)\u001b[0m\u001b[1m]\u001b[0m\u001b[1m)\u001b[0m\u001b[1m]\u001b[0m\u001b[1m)\u001b[0m, \n",
       "\u001b[1;35mWeek\u001b[0m\u001b[1m(\u001b[0m\u001b[33mweek_range\u001b[0m=\u001b[32m'Week 5-8'\u001b[0m, \u001b[33mdays\u001b[0m=\u001b[1m[\u001b[0m\u001b[1;35mDay\u001b[0m\u001b[1m(\u001b[0m\u001b[33mday_number\u001b[0m=\u001b[1;36m1\u001b[0m, \u001b[33mfocus\u001b[0m=\u001b[32m'Upper Body'\u001b[0m, \u001b[33mexercises\u001b[0m=\u001b[1m[\u001b[0m\u001b[1;35mExercise\u001b[0m\u001b[1m(\u001b[0m\u001b[33mname\u001b[0m=\u001b[32m'Bench Press'\u001b[0m, \n",
       "\u001b[33mexercise_type\u001b[0m=\u001b[32m'Strength'\u001b[0m, \u001b[33msets\u001b[0m=\u001b[1;36m4\u001b[0m, \u001b[33mreps\u001b[0m=\u001b[1;36m10\u001b[0m, \u001b[33mduration\u001b[0m=\u001b[3;35mNone\u001b[0m\u001b[1m)\u001b[0m, \u001b[1;35mExercise\u001b[0m\u001b[1m(\u001b[0m\u001b[33mname\u001b[0m=\u001b[32m'Pull-ups'\u001b[0m, \u001b[33mexercise_type\u001b[0m=\u001b[32m'Strength'\u001b[0m, \n",
       "\u001b[33msets\u001b[0m=\u001b[1;36m4\u001b[0m, \u001b[33mreps\u001b[0m=\u001b[1;36m8\u001b[0m, \u001b[33mduration\u001b[0m=\u001b[3;35mNone\u001b[0m\u001b[1m)\u001b[0m, \u001b[1;35mExercise\u001b[0m\u001b[1m(\u001b[0m\u001b[33mname\u001b[0m=\u001b[32m'Dumbbell Shoulder Press'\u001b[0m, \u001b[33mexercise_type\u001b[0m=\u001b[32m'Strength'\u001b[0m, \u001b[33msets\u001b[0m=\u001b[1;36m4\u001b[0m, \u001b[33mreps\u001b[0m=\u001b[1;36m10\u001b[0m,\n",
       "\u001b[33mduration\u001b[0m=\u001b[3;35mNone\u001b[0m\u001b[1m)\u001b[0m, \u001b[1;35mExercise\u001b[0m\u001b[1m(\u001b[0m\u001b[33mname\u001b[0m=\u001b[32m'Tricep Dips'\u001b[0m, \u001b[33mexercise_type\u001b[0m=\u001b[32m'Strength'\u001b[0m, \u001b[33msets\u001b[0m=\u001b[1;36m4\u001b[0m, \u001b[33mreps\u001b[0m=\u001b[1;36m12\u001b[0m, \u001b[33mduration\u001b[0m=\u001b[3;35mNone\u001b[0m\u001b[1m)\u001b[0m, \n",
       "\u001b[1;35mExercise\u001b[0m\u001b[1m(\u001b[0m\u001b[33mname\u001b[0m=\u001b[32m'Bicep Curls'\u001b[0m, \u001b[33mexercise_type\u001b[0m=\u001b[32m'Strength'\u001b[0m, \u001b[33msets\u001b[0m=\u001b[1;36m4\u001b[0m, \u001b[33mreps\u001b[0m=\u001b[1;36m12\u001b[0m, \u001b[33mduration\u001b[0m=\u001b[3;35mNone\u001b[0m\u001b[1m)\u001b[0m\u001b[1m]\u001b[0m\u001b[1m)\u001b[0m, \u001b[1;35mDay\u001b[0m\u001b[1m(\u001b[0m\u001b[33mday_number\u001b[0m=\u001b[1;36m2\u001b[0m, \n",
       "\u001b[33mfocus\u001b[0m=\u001b[32m'Cardio'\u001b[0m, \u001b[33mexercises\u001b[0m=\u001b[1m[\u001b[0m\u001b[1;35mExercise\u001b[0m\u001b[1m(\u001b[0m\u001b[33mname\u001b[0m=\u001b[32m'Treadmill'\u001b[0m, \u001b[33mexercise_type\u001b[0m=\u001b[32m'Cardio'\u001b[0m, \u001b[33msets\u001b[0m=\u001b[3;35mNone\u001b[0m, \u001b[33mreps\u001b[0m=\u001b[3;35mNone\u001b[0m, \n",
       "\u001b[33mduration\u001b[0m=\u001b[1;35mDuration\u001b[0m\u001b[1m(\u001b[0m\u001b[33mvalue\u001b[0m=\u001b[1;36m40\u001b[0m, \u001b[33munit\u001b[0m=\u001b[32m'minutes'\u001b[0m\u001b[1m)\u001b[0m\u001b[1m)\u001b[0m\u001b[1m]\u001b[0m\u001b[1m)\u001b[0m, \u001b[1;35mDay\u001b[0m\u001b[1m(\u001b[0m\u001b[33mday_number\u001b[0m=\u001b[1;36m3\u001b[0m, \u001b[33mfocus\u001b[0m=\u001b[32m'Rest'\u001b[0m, \u001b[33mexercises\u001b[0m=\u001b[1m[\u001b[0m\u001b[1m]\u001b[0m\u001b[1m)\u001b[0m, \u001b[1;35mDay\u001b[0m\u001b[1m(\u001b[0m\u001b[33mday_number\u001b[0m=\u001b[1;36m4\u001b[0m, \n",
       "\u001b[33mfocus\u001b[0m=\u001b[32m'Core'\u001b[0m, \u001b[33mexercises\u001b[0m=\u001b[1m[\u001b[0m\u001b[1;35mExercise\u001b[0m\u001b[1m(\u001b[0m\u001b[33mname\u001b[0m=\u001b[32m'Plank'\u001b[0m, \u001b[33mexercise_type\u001b[0m=\u001b[32m'Strength'\u001b[0m, \u001b[33msets\u001b[0m=\u001b[1;36m4\u001b[0m, \u001b[33mreps\u001b[0m=\u001b[3;35mNone\u001b[0m, \n",
       "\u001b[33mduration\u001b[0m=\u001b[1;35mDuration\u001b[0m\u001b[1m(\u001b[0m\u001b[33mvalue\u001b[0m=\u001b[1;36m60\u001b[0m, \u001b[33munit\u001b[0m=\u001b[32m'seconds'\u001b[0m\u001b[1m)\u001b[0m\u001b[1m)\u001b[0m, \u001b[1;35mExercise\u001b[0m\u001b[1m(\u001b[0m\u001b[33mname\u001b[0m=\u001b[32m'Russian Twists'\u001b[0m, \u001b[33mexercise_type\u001b[0m=\u001b[32m'Strength'\u001b[0m, \u001b[33msets\u001b[0m=\u001b[1;36m4\u001b[0m, \n",
       "\u001b[33mreps\u001b[0m=\u001b[1;36m15\u001b[0m, \u001b[33mduration\u001b[0m=\u001b[3;35mNone\u001b[0m\u001b[1m)\u001b[0m, \u001b[1;35mExercise\u001b[0m\u001b[1m(\u001b[0m\u001b[33mname\u001b[0m=\u001b[32m'Leg Raises'\u001b[0m, \u001b[33mexercise_type\u001b[0m=\u001b[32m'Strength'\u001b[0m, \u001b[33msets\u001b[0m=\u001b[1;36m4\u001b[0m, \u001b[33mreps\u001b[0m=\u001b[1;36m12\u001b[0m, \u001b[33mduration\u001b[0m=\u001b[3;35mNone\u001b[0m\u001b[1m)\u001b[0m, \n",
       "\u001b[1;35mExercise\u001b[0m\u001b[1m(\u001b[0m\u001b[33mname\u001b[0m=\u001b[32m'Bicycle Crunches'\u001b[0m, \u001b[33mexercise_type\u001b[0m=\u001b[32m'Strength'\u001b[0m, \u001b[33msets\u001b[0m=\u001b[1;36m4\u001b[0m, \u001b[33mreps\u001b[0m=\u001b[1;36m15\u001b[0m, \u001b[33mduration\u001b[0m=\u001b[3;35mNone\u001b[0m\u001b[1m)\u001b[0m\u001b[1m]\u001b[0m\u001b[1m)\u001b[0m\u001b[1m]\u001b[0m\u001b[1m)\u001b[0m\u001b[1m]\u001b[0m \n",
       "\u001b[33mnotes\u001b[0m=\u001b[1m[\u001b[0m\u001b[1;35mNote\u001b[0m\u001b[1m(\u001b[0m\u001b[33mcontent\u001b[0m=\u001b[32m'Remember to warm up for 5-10 minutes before each workout session.'\u001b[0m\u001b[1m)\u001b[0m, \u001b[1;35mNote\u001b[0m\u001b[1m(\u001b[0m\u001b[33mcontent\u001b[0m=\u001b[32m'Cool down \u001b[0m\n",
       "\u001b[32mand stretch for 5-10 minutes after each workout session.'\u001b[0m\u001b[1m)\u001b[0m, \u001b[1;35mNote\u001b[0m\u001b[1m(\u001b[0m\u001b[33mcontent\u001b[0m=\u001b[32m'Progress at your own pace and listen to \u001b[0m\n",
       "\u001b[32myour body.'\u001b[0m\u001b[1m)\u001b[0m, \u001b[1;35mNote\u001b[0m\u001b[1m(\u001b[0m\u001b[33mcontent\u001b[0m=\u001b[32m'Maintain proper form and technique during exercises to avoid injuries.'\u001b[0m\u001b[1m)\u001b[0m, \n",
       "\u001b[1;35mNote\u001b[0m\u001b[1m(\u001b[0m\u001b[33mcontent\u001b[0m=\u001b[32m'Stay consistent with your workouts and nutrition for optimal results.'\u001b[0m\u001b[1m)\u001b[0m\u001b[1m]\u001b[0m\n"
      ]
     },
     "metadata": {},
     "output_type": "display_data"
    }
   ],
   "source": [
    "plan  = parser.parse(response.content)\n",
    "print(plan)"
   ]
  },
  {
   "cell_type": "code",
   "execution_count": 19,
   "metadata": {},
   "outputs": [
    {
     "data": {
      "text/html": [
       "<pre style=\"white-space:pre;overflow-x:auto;line-height:normal;font-family:Menlo,'DejaVu Sans Mono',consolas,'Courier New',monospace\">Week: Week <span style=\"color: #008080; text-decoration-color: #008080; font-weight: bold\">1</span>-<span style=\"color: #008080; text-decoration-color: #008080; font-weight: bold\">4</span>\n",
       "</pre>\n"
      ],
      "text/plain": [
       "Week: Week \u001b[1;36m1\u001b[0m-\u001b[1;36m4\u001b[0m\n"
      ]
     },
     "metadata": {},
     "output_type": "display_data"
    },
    {
     "data": {
      "text/html": [
       "<pre style=\"white-space:pre;overflow-x:auto;line-height:normal;font-family:Menlo,'DejaVu Sans Mono',consolas,'Courier New',monospace\">Day: <span style=\"color: #008080; text-decoration-color: #008080; font-weight: bold\">1</span>\n",
       "Focus: Upper Body\n",
       "</pre>\n"
      ],
      "text/plain": [
       "Day: \u001b[1;36m1\u001b[0m\n",
       "Focus: Upper Body\n"
      ]
     },
     "metadata": {},
     "output_type": "display_data"
    },
    {
     "data": {
      "text/html": [
       "<pre style=\"white-space:pre;overflow-x:auto;line-height:normal;font-family:Menlo,'DejaVu Sans Mono',consolas,'Courier New',monospace\"><span style=\"font-weight: bold\">[</span>\n",
       "    <span style=\"color: #008000; text-decoration-color: #008000\">'Bench Press -&gt; 3 x 10 x None'</span>,\n",
       "    <span style=\"color: #008000; text-decoration-color: #008000\">'Pull-ups -&gt; 3 x 8 x None'</span>,\n",
       "    <span style=\"color: #008000; text-decoration-color: #008000\">'Dumbbell Shoulder Press -&gt; 3 x 10 x None'</span>,\n",
       "    <span style=\"color: #008000; text-decoration-color: #008000\">'Tricep Dips -&gt; 3 x 12 x None'</span>,\n",
       "    <span style=\"color: #008000; text-decoration-color: #008000\">'Bicep Curls -&gt; 3 x 12 x None'</span>\n",
       "<span style=\"font-weight: bold\">]</span>\n",
       "</pre>\n"
      ],
      "text/plain": [
       "\u001b[1m[\u001b[0m\n",
       "    \u001b[32m'Bench Press -> 3 x 10 x None'\u001b[0m,\n",
       "    \u001b[32m'Pull-ups -> 3 x 8 x None'\u001b[0m,\n",
       "    \u001b[32m'Dumbbell Shoulder Press -> 3 x 10 x None'\u001b[0m,\n",
       "    \u001b[32m'Tricep Dips -> 3 x 12 x None'\u001b[0m,\n",
       "    \u001b[32m'Bicep Curls -> 3 x 12 x None'\u001b[0m\n",
       "\u001b[1m]\u001b[0m\n"
      ]
     },
     "metadata": {},
     "output_type": "display_data"
    },
    {
     "data": {
      "text/html": [
       "<pre style=\"white-space:pre;overflow-x:auto;line-height:normal;font-family:Menlo,'DejaVu Sans Mono',consolas,'Courier New',monospace\">Day: <span style=\"color: #008080; text-decoration-color: #008080; font-weight: bold\">2</span>\n",
       "Focus: Cardio\n",
       "</pre>\n"
      ],
      "text/plain": [
       "Day: \u001b[1;36m2\u001b[0m\n",
       "Focus: Cardio\n"
      ]
     },
     "metadata": {},
     "output_type": "display_data"
    },
    {
     "data": {
      "text/html": [
       "<pre style=\"white-space:pre;overflow-x:auto;line-height:normal;font-family:Menlo,'DejaVu Sans Mono',consolas,'Courier New',monospace\"><span style=\"font-weight: bold\">[</span><span style=\"color: #008000; text-decoration-color: #008000\">\"Treadmill -&gt; None x None x value=30 unit='minutes'\"</span><span style=\"font-weight: bold\">]</span>\n",
       "</pre>\n"
      ],
      "text/plain": [
       "\u001b[1m[\u001b[0m\u001b[32m\"Treadmill -> None x None x \u001b[0m\u001b[32mvalue\u001b[0m\u001b[32m=\u001b[0m\u001b[32m30\u001b[0m\u001b[32m \u001b[0m\u001b[32munit\u001b[0m\u001b[32m='minutes'\"\u001b[0m\u001b[1m]\u001b[0m\n"
      ]
     },
     "metadata": {},
     "output_type": "display_data"
    },
    {
     "data": {
      "text/html": [
       "<pre style=\"white-space:pre;overflow-x:auto;line-height:normal;font-family:Menlo,'DejaVu Sans Mono',consolas,'Courier New',monospace\">Day: <span style=\"color: #008080; text-decoration-color: #008080; font-weight: bold\">3</span>\n",
       "Focus: Rest\n",
       "</pre>\n"
      ],
      "text/plain": [
       "Day: \u001b[1;36m3\u001b[0m\n",
       "Focus: Rest\n"
      ]
     },
     "metadata": {},
     "output_type": "display_data"
    },
    {
     "data": {
      "text/html": [
       "<pre style=\"white-space:pre;overflow-x:auto;line-height:normal;font-family:Menlo,'DejaVu Sans Mono',consolas,'Courier New',monospace\"><span style=\"font-weight: bold\">[]</span>\n",
       "</pre>\n"
      ],
      "text/plain": [
       "\u001b[1m[\u001b[0m\u001b[1m]\u001b[0m\n"
      ]
     },
     "metadata": {},
     "output_type": "display_data"
    },
    {
     "data": {
      "text/html": [
       "<pre style=\"white-space:pre;overflow-x:auto;line-height:normal;font-family:Menlo,'DejaVu Sans Mono',consolas,'Courier New',monospace\">Day: <span style=\"color: #008080; text-decoration-color: #008080; font-weight: bold\">4</span>\n",
       "Focus: Core\n",
       "</pre>\n"
      ],
      "text/plain": [
       "Day: \u001b[1;36m4\u001b[0m\n",
       "Focus: Core\n"
      ]
     },
     "metadata": {},
     "output_type": "display_data"
    },
    {
     "data": {
      "text/html": [
       "<pre style=\"white-space:pre;overflow-x:auto;line-height:normal;font-family:Menlo,'DejaVu Sans Mono',consolas,'Courier New',monospace\"><span style=\"font-weight: bold\">[</span>\n",
       "    <span style=\"color: #008000; text-decoration-color: #008000\">\"Plank -&gt; 3 x None x value=60 unit='seconds'\"</span>,\n",
       "    <span style=\"color: #008000; text-decoration-color: #008000\">'Russian Twists -&gt; 3 x 15 x None'</span>,\n",
       "    <span style=\"color: #008000; text-decoration-color: #008000\">'Leg Raises -&gt; 3 x 12 x None'</span>,\n",
       "    <span style=\"color: #008000; text-decoration-color: #008000\">'Bicycle Crunches -&gt; 3 x 15 x None'</span>\n",
       "<span style=\"font-weight: bold\">]</span>\n",
       "</pre>\n"
      ],
      "text/plain": [
       "\u001b[1m[\u001b[0m\n",
       "    \u001b[32m\"Plank -> 3 x None x \u001b[0m\u001b[32mvalue\u001b[0m\u001b[32m=\u001b[0m\u001b[32m60\u001b[0m\u001b[32m \u001b[0m\u001b[32munit\u001b[0m\u001b[32m='seconds'\"\u001b[0m,\n",
       "    \u001b[32m'Russian Twists -> 3 x 15 x None'\u001b[0m,\n",
       "    \u001b[32m'Leg Raises -> 3 x 12 x None'\u001b[0m,\n",
       "    \u001b[32m'Bicycle Crunches -> 3 x 15 x None'\u001b[0m\n",
       "\u001b[1m]\u001b[0m\n"
      ]
     },
     "metadata": {},
     "output_type": "display_data"
    },
    {
     "data": {
      "text/html": [
       "<pre style=\"white-space:pre;overflow-x:auto;line-height:normal;font-family:Menlo,'DejaVu Sans Mono',consolas,'Courier New',monospace\">Week: Week <span style=\"color: #008080; text-decoration-color: #008080; font-weight: bold\">5</span>-<span style=\"color: #008080; text-decoration-color: #008080; font-weight: bold\">8</span>\n",
       "</pre>\n"
      ],
      "text/plain": [
       "Week: Week \u001b[1;36m5\u001b[0m-\u001b[1;36m8\u001b[0m\n"
      ]
     },
     "metadata": {},
     "output_type": "display_data"
    },
    {
     "data": {
      "text/html": [
       "<pre style=\"white-space:pre;overflow-x:auto;line-height:normal;font-family:Menlo,'DejaVu Sans Mono',consolas,'Courier New',monospace\">Day: <span style=\"color: #008080; text-decoration-color: #008080; font-weight: bold\">1</span>\n",
       "Focus: Upper Body\n",
       "</pre>\n"
      ],
      "text/plain": [
       "Day: \u001b[1;36m1\u001b[0m\n",
       "Focus: Upper Body\n"
      ]
     },
     "metadata": {},
     "output_type": "display_data"
    },
    {
     "data": {
      "text/html": [
       "<pre style=\"white-space:pre;overflow-x:auto;line-height:normal;font-family:Menlo,'DejaVu Sans Mono',consolas,'Courier New',monospace\"><span style=\"font-weight: bold\">[</span>\n",
       "    <span style=\"color: #008000; text-decoration-color: #008000\">'Bench Press -&gt; 4 x 10 x None'</span>,\n",
       "    <span style=\"color: #008000; text-decoration-color: #008000\">'Pull-ups -&gt; 4 x 8 x None'</span>,\n",
       "    <span style=\"color: #008000; text-decoration-color: #008000\">'Dumbbell Shoulder Press -&gt; 4 x 10 x None'</span>,\n",
       "    <span style=\"color: #008000; text-decoration-color: #008000\">'Tricep Dips -&gt; 4 x 12 x None'</span>,\n",
       "    <span style=\"color: #008000; text-decoration-color: #008000\">'Bicep Curls -&gt; 4 x 12 x None'</span>\n",
       "<span style=\"font-weight: bold\">]</span>\n",
       "</pre>\n"
      ],
      "text/plain": [
       "\u001b[1m[\u001b[0m\n",
       "    \u001b[32m'Bench Press -> 4 x 10 x None'\u001b[0m,\n",
       "    \u001b[32m'Pull-ups -> 4 x 8 x None'\u001b[0m,\n",
       "    \u001b[32m'Dumbbell Shoulder Press -> 4 x 10 x None'\u001b[0m,\n",
       "    \u001b[32m'Tricep Dips -> 4 x 12 x None'\u001b[0m,\n",
       "    \u001b[32m'Bicep Curls -> 4 x 12 x None'\u001b[0m\n",
       "\u001b[1m]\u001b[0m\n"
      ]
     },
     "metadata": {},
     "output_type": "display_data"
    },
    {
     "data": {
      "text/html": [
       "<pre style=\"white-space:pre;overflow-x:auto;line-height:normal;font-family:Menlo,'DejaVu Sans Mono',consolas,'Courier New',monospace\">Day: <span style=\"color: #008080; text-decoration-color: #008080; font-weight: bold\">2</span>\n",
       "Focus: Cardio\n",
       "</pre>\n"
      ],
      "text/plain": [
       "Day: \u001b[1;36m2\u001b[0m\n",
       "Focus: Cardio\n"
      ]
     },
     "metadata": {},
     "output_type": "display_data"
    },
    {
     "data": {
      "text/html": [
       "<pre style=\"white-space:pre;overflow-x:auto;line-height:normal;font-family:Menlo,'DejaVu Sans Mono',consolas,'Courier New',monospace\"><span style=\"font-weight: bold\">[</span><span style=\"color: #008000; text-decoration-color: #008000\">\"Treadmill -&gt; None x None x value=40 unit='minutes'\"</span><span style=\"font-weight: bold\">]</span>\n",
       "</pre>\n"
      ],
      "text/plain": [
       "\u001b[1m[\u001b[0m\u001b[32m\"Treadmill -> None x None x \u001b[0m\u001b[32mvalue\u001b[0m\u001b[32m=\u001b[0m\u001b[32m40\u001b[0m\u001b[32m \u001b[0m\u001b[32munit\u001b[0m\u001b[32m='minutes'\"\u001b[0m\u001b[1m]\u001b[0m\n"
      ]
     },
     "metadata": {},
     "output_type": "display_data"
    },
    {
     "data": {
      "text/html": [
       "<pre style=\"white-space:pre;overflow-x:auto;line-height:normal;font-family:Menlo,'DejaVu Sans Mono',consolas,'Courier New',monospace\">Day: <span style=\"color: #008080; text-decoration-color: #008080; font-weight: bold\">3</span>\n",
       "Focus: Rest\n",
       "</pre>\n"
      ],
      "text/plain": [
       "Day: \u001b[1;36m3\u001b[0m\n",
       "Focus: Rest\n"
      ]
     },
     "metadata": {},
     "output_type": "display_data"
    },
    {
     "data": {
      "text/html": [
       "<pre style=\"white-space:pre;overflow-x:auto;line-height:normal;font-family:Menlo,'DejaVu Sans Mono',consolas,'Courier New',monospace\"><span style=\"font-weight: bold\">[]</span>\n",
       "</pre>\n"
      ],
      "text/plain": [
       "\u001b[1m[\u001b[0m\u001b[1m]\u001b[0m\n"
      ]
     },
     "metadata": {},
     "output_type": "display_data"
    },
    {
     "data": {
      "text/html": [
       "<pre style=\"white-space:pre;overflow-x:auto;line-height:normal;font-family:Menlo,'DejaVu Sans Mono',consolas,'Courier New',monospace\">Day: <span style=\"color: #008080; text-decoration-color: #008080; font-weight: bold\">4</span>\n",
       "Focus: Core\n",
       "</pre>\n"
      ],
      "text/plain": [
       "Day: \u001b[1;36m4\u001b[0m\n",
       "Focus: Core\n"
      ]
     },
     "metadata": {},
     "output_type": "display_data"
    },
    {
     "data": {
      "text/html": [
       "<pre style=\"white-space:pre;overflow-x:auto;line-height:normal;font-family:Menlo,'DejaVu Sans Mono',consolas,'Courier New',monospace\"><span style=\"font-weight: bold\">[</span>\n",
       "    <span style=\"color: #008000; text-decoration-color: #008000\">\"Plank -&gt; 4 x None x value=60 unit='seconds'\"</span>,\n",
       "    <span style=\"color: #008000; text-decoration-color: #008000\">'Russian Twists -&gt; 4 x 15 x None'</span>,\n",
       "    <span style=\"color: #008000; text-decoration-color: #008000\">'Leg Raises -&gt; 4 x 12 x None'</span>,\n",
       "    <span style=\"color: #008000; text-decoration-color: #008000\">'Bicycle Crunches -&gt; 4 x 15 x None'</span>\n",
       "<span style=\"font-weight: bold\">]</span>\n",
       "</pre>\n"
      ],
      "text/plain": [
       "\u001b[1m[\u001b[0m\n",
       "    \u001b[32m\"Plank -> 4 x None x \u001b[0m\u001b[32mvalue\u001b[0m\u001b[32m=\u001b[0m\u001b[32m60\u001b[0m\u001b[32m \u001b[0m\u001b[32munit\u001b[0m\u001b[32m='seconds'\"\u001b[0m,\n",
       "    \u001b[32m'Russian Twists -> 4 x 15 x None'\u001b[0m,\n",
       "    \u001b[32m'Leg Raises -> 4 x 12 x None'\u001b[0m,\n",
       "    \u001b[32m'Bicycle Crunches -> 4 x 15 x None'\u001b[0m\n",
       "\u001b[1m]\u001b[0m\n"
      ]
     },
     "metadata": {},
     "output_type": "display_data"
    },
    {
     "data": {
      "text/html": [
       "<pre style=\"white-space:pre;overflow-x:auto;line-height:normal;font-family:Menlo,'DejaVu Sans Mono',consolas,'Courier New',monospace\"><span style=\"font-weight: bold\">[</span>\n",
       "    <span style=\"color: #800080; text-decoration-color: #800080; font-weight: bold\">Note</span><span style=\"font-weight: bold\">(</span><span style=\"color: #808000; text-decoration-color: #808000\">content</span>=<span style=\"color: #008000; text-decoration-color: #008000\">'Remember to warm up for 5-10 minutes before each workout session.'</span><span style=\"font-weight: bold\">)</span>,\n",
       "    <span style=\"color: #800080; text-decoration-color: #800080; font-weight: bold\">Note</span><span style=\"font-weight: bold\">(</span><span style=\"color: #808000; text-decoration-color: #808000\">content</span>=<span style=\"color: #008000; text-decoration-color: #008000\">'Cool down and stretch for 5-10 minutes after each workout session.'</span><span style=\"font-weight: bold\">)</span>,\n",
       "    <span style=\"color: #800080; text-decoration-color: #800080; font-weight: bold\">Note</span><span style=\"font-weight: bold\">(</span><span style=\"color: #808000; text-decoration-color: #808000\">content</span>=<span style=\"color: #008000; text-decoration-color: #008000\">'Progress at your own pace and listen to your body.'</span><span style=\"font-weight: bold\">)</span>,\n",
       "    <span style=\"color: #800080; text-decoration-color: #800080; font-weight: bold\">Note</span><span style=\"font-weight: bold\">(</span><span style=\"color: #808000; text-decoration-color: #808000\">content</span>=<span style=\"color: #008000; text-decoration-color: #008000\">'Maintain proper form and technique during exercises to avoid injuries.'</span><span style=\"font-weight: bold\">)</span>,\n",
       "    <span style=\"color: #800080; text-decoration-color: #800080; font-weight: bold\">Note</span><span style=\"font-weight: bold\">(</span><span style=\"color: #808000; text-decoration-color: #808000\">content</span>=<span style=\"color: #008000; text-decoration-color: #008000\">'Stay consistent with your workouts and nutrition for optimal results.'</span><span style=\"font-weight: bold\">)</span>\n",
       "<span style=\"font-weight: bold\">]</span>\n",
       "</pre>\n"
      ],
      "text/plain": [
       "\u001b[1m[\u001b[0m\n",
       "    \u001b[1;35mNote\u001b[0m\u001b[1m(\u001b[0m\u001b[33mcontent\u001b[0m=\u001b[32m'Remember to warm up for 5-10 minutes before each workout session.'\u001b[0m\u001b[1m)\u001b[0m,\n",
       "    \u001b[1;35mNote\u001b[0m\u001b[1m(\u001b[0m\u001b[33mcontent\u001b[0m=\u001b[32m'Cool down and stretch for 5-10 minutes after each workout session.'\u001b[0m\u001b[1m)\u001b[0m,\n",
       "    \u001b[1;35mNote\u001b[0m\u001b[1m(\u001b[0m\u001b[33mcontent\u001b[0m=\u001b[32m'Progress at your own pace and listen to your body.'\u001b[0m\u001b[1m)\u001b[0m,\n",
       "    \u001b[1;35mNote\u001b[0m\u001b[1m(\u001b[0m\u001b[33mcontent\u001b[0m=\u001b[32m'Maintain proper form and technique during exercises to avoid injuries.'\u001b[0m\u001b[1m)\u001b[0m,\n",
       "    \u001b[1;35mNote\u001b[0m\u001b[1m(\u001b[0m\u001b[33mcontent\u001b[0m=\u001b[32m'Stay consistent with your workouts and nutrition for optimal results.'\u001b[0m\u001b[1m)\u001b[0m\n",
       "\u001b[1m]\u001b[0m\n"
      ]
     },
     "metadata": {},
     "output_type": "display_data"
    }
   ],
   "source": [
    "def print_plan(plan):\n",
    "    for p in plan.weeks:\n",
    "        print(f\"Week: {p.week_range}\")\n",
    "        for day in p.days:\n",
    "            print(f\"Day: {day.day_number}\\nFocus: {day.focus}\")\n",
    "            print([f\"{exercise.name} -> {exercise.sets} x {exercise.reps} x {exercise.duration}\" for exercise in day.exercises])\n",
    "\n",
    "    print(plan.notes)\n",
    "\n",
    "print_plan(plan)"
   ]
  }
 ],
 "metadata": {
  "kernelspec": {
   "display_name": "Python 3",
   "language": "python",
   "name": "python3"
  },
  "language_info": {
   "codemirror_mode": {
    "name": "ipython",
    "version": 3
   },
   "file_extension": ".py",
   "mimetype": "text/x-python",
   "name": "python",
   "nbconvert_exporter": "python",
   "pygments_lexer": "ipython3",
   "version": "3.8.3"
  },
  "orig_nbformat": 4
 },
 "nbformat": 4,
 "nbformat_minor": 2
}
